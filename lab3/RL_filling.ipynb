{
  "nbformat": 4,
  "nbformat_minor": 0,
  "metadata": {
    "colab": {
      "name": "RL.ipynb",
      "provenance": [],
      "collapsed_sections": [
        "jrI6q7RmWQam"
      ]
    },
    "kernelspec": {
      "name": "python3",
      "display_name": "Python 3"
    },
    "accelerator": "GPU"
  },
  "cells": [
    {
      "cell_type": "markdown",
      "metadata": {
        "id": "jrI6q7RmWQam",
        "colab_type": "text"
      },
      "source": [
        "<table align=\"center\">\n",
        "  <td align=\"center\"><a target=\"_blank\" href=\"http://introtodeeplearning.com\">\n",
        "        <img src=\"http://introtodeeplearning.com/images/colab/mit.png\" style=\"padding-bottom:5px;\" />\n",
        "      Visit MIT Deep Learning</a></td>\n",
        "  <td align=\"center\"><a target=\"_blank\" href=\"https://colab.research.google.com/github/aamini/introtodeeplearning/blob/master/lab3/RL.ipynb\">\n",
        "        <img src=\"http://introtodeeplearning.com/images/colab/colab.png?v2.0\"  style=\"padding-bottom:5px;\" />Run in Google Colab</a></td>\n",
        "  <td align=\"center\"><a target=\"_blank\" href=\"https://github.com/aamini/introtodeeplearning/blob/master/lab3/RL.ipynb\">\n",
        "        <img src=\"http://introtodeeplearning.com/images/colab/github.png\"  height=\"70px\" style=\"padding-bottom:5px;\"  />View Source on GitHub</a></td>\n",
        "</table>\n",
        "\n",
        "# Copyright Information"
      ]
    },
    {
      "cell_type": "code",
      "metadata": {
        "id": "wkd375upWYok",
        "colab_type": "code",
        "colab": {}
      },
      "source": [
        "# Copyright 2020 MIT 6.S191 Introduction to Deep Learning. All Rights Reserved.\n",
        "# \n",
        "# Licensed under the MIT License. You may not use this file except in compliance\n",
        "# with the License. Use and/or modification of this code outside of 6.S191 must\n",
        "# reference:\n",
        "#\n",
        "# © MIT 6.S191: Introduction to Deep Learning\n",
        "# http://introtodeeplearning.com\n",
        "#"
      ],
      "execution_count": null,
      "outputs": []
    },
    {
      "cell_type": "markdown",
      "metadata": {
        "id": "WoXYKhfZMHiw",
        "colab_type": "text"
      },
      "source": [
        "# Laboratory 3: Reinforcement Learning\n",
        "\n",
        "Reinforcement learning (RL) is a subset of machine learning which poses learning problems as interactions between agents and environments. It often assumes agents have no prior knowledge of a world, so they must learn to navigate environments by optimizing a reward function. Within an environment, an agent can take certain actions and receive feedback, in the form of positive or negative rewards, with respect to their decision. As such, an agent's feedback loop is somewhat akin to the idea of \"trial and error\", or the manner in which a child might learn to distinguish between \"good\" and \"bad\" actions.\n",
        "\n",
        "In practical terms, our RL agent will interact with the environment by taking an action at each timestep, receiving a corresponding reward, and updating its state according to what it has \"learned\".  \n",
        "\n",
        "![alt text](https://www.kdnuggets.com/images/reinforcement-learning-fig1-700.jpg)\n",
        "\n",
        "While the ultimate goal of reinforcement learning is to teach agents to act in the real, physical world, games provide a convenient proving ground for developing RL algorithms and agents. Games have some properties that make them particularly well suited for RL: \n",
        "\n",
        "1.   In many cases, games have perfectly describable environments. For example, all rules of chess can be formally written and programmed into a chess game simulator;\n",
        "2.   Games are massively parallelizable. Since they do not require running in the real world, simultaneous environments can be run on large data clusters; \n",
        "3.   Simpler scenarios in games enable fast prototyping. This speeds up the development of algorithms that could eventually run in the real-world; and\n",
        "4.   ... Games are fun! \n",
        "\n",
        "In previous labs, we have explored both supervised (with LSTMs, CNNs) and unsupervised / semi-supervised (with VAEs) learning tasks. Reinforcement learning is fundamentally different, in that we are training a deep learning algorithm to govern the actions of our RL agent, that is trying, within its environment, to find the optimal way to achieve a goal. The goal of training an RL agent is to determine the best next step to take to earn the greatest final payoff or return. In this lab, we focus on building a reinforcement learning algorithm to master two different environments with varying complexity. \n",
        "\n",
        "1.   **Cartpole**:   Balance a pole, protruding from a cart, in an upright position by only moving the base left or right. Environment with a low-dimensional observation space.\n",
        "2.   [**Pong**](https://en.wikipedia.org/wiki/Pong): Beat your competitors (whether other AI or humans!) at the game of Pong. Environment with a high-dimensional observation space -- learning directly from raw pixels.\n",
        "\n",
        "Let's get started! First we'll import TensorFlow, the course package, and some dependencies.\n"
      ]
    },
    {
      "cell_type": "code",
      "metadata": {
        "id": "EvdePP-VyVWp",
        "colab_type": "code",
        "colab": {
          "base_uri": "https://localhost:8080/",
          "height": 329
        },
        "outputId": "9d5d45e3-cfb3-43a9-85b5-244e900d7670"
      },
      "source": [
        "!apt-get install -y xvfb python-opengl x11-utils > /dev/null 2>&1\n",
        "!pip install gym pyvirtualdisplay scikit-video > /dev/null 2>&1\n",
        "\n",
        "%tensorflow_version 2.x\n",
        "import tensorflow as tf\n",
        "\n",
        "import numpy as np\n",
        "import base64, io, time, gym\n",
        "import IPython, functools\n",
        "import matplotlib.pyplot as plt\n",
        "from tqdm import tqdm\n",
        "\n",
        "!pip install mitdeeplearning\n",
        "import mitdeeplearning as mdl"
      ],
      "execution_count": 1,
      "outputs": [
        {
          "output_type": "stream",
          "text": [
            "Collecting mitdeeplearning\n",
            "\u001b[?25l  Downloading https://files.pythonhosted.org/packages/8b/3b/b9174b68dc10832356d02a2d83a64b43a24f1762c172754407d22fc8f960/mitdeeplearning-0.1.2.tar.gz (2.1MB)\n",
            "\u001b[K     |████████████████████████████████| 2.1MB 3.4MB/s \n",
            "\u001b[?25hRequirement already satisfied: numpy in /usr/local/lib/python3.6/dist-packages (from mitdeeplearning) (1.18.5)\n",
            "Requirement already satisfied: regex in /usr/local/lib/python3.6/dist-packages (from mitdeeplearning) (2019.12.20)\n",
            "Requirement already satisfied: tqdm in /usr/local/lib/python3.6/dist-packages (from mitdeeplearning) (4.41.1)\n",
            "Requirement already satisfied: gym in /usr/local/lib/python3.6/dist-packages (from mitdeeplearning) (0.17.2)\n",
            "Requirement already satisfied: cloudpickle<1.4.0,>=1.2.0 in /usr/local/lib/python3.6/dist-packages (from gym->mitdeeplearning) (1.3.0)\n",
            "Requirement already satisfied: pyglet<=1.5.0,>=1.4.0 in /usr/local/lib/python3.6/dist-packages (from gym->mitdeeplearning) (1.5.0)\n",
            "Requirement already satisfied: scipy in /usr/local/lib/python3.6/dist-packages (from gym->mitdeeplearning) (1.4.1)\n",
            "Requirement already satisfied: future in /usr/local/lib/python3.6/dist-packages (from pyglet<=1.5.0,>=1.4.0->gym->mitdeeplearning) (0.16.0)\n",
            "Building wheels for collected packages: mitdeeplearning\n",
            "  Building wheel for mitdeeplearning (setup.py) ... \u001b[?25l\u001b[?25hdone\n",
            "  Created wheel for mitdeeplearning: filename=mitdeeplearning-0.1.2-cp36-none-any.whl size=2114585 sha256=1861da227ed3e3f2982d94028dadf6749645263897010480d289aec5cbbe6844\n",
            "  Stored in directory: /root/.cache/pip/wheels/27/e1/73/5f01c787621d8a3c857f59876c79e304b9b64db9ff5bd61b74\n",
            "Successfully built mitdeeplearning\n",
            "Installing collected packages: mitdeeplearning\n",
            "Successfully installed mitdeeplearning-0.1.2\n"
          ],
          "name": "stdout"
        }
      ]
    },
    {
      "cell_type": "markdown",
      "metadata": {
        "id": "zmrHSiXKTXTY",
        "colab_type": "text"
      },
      "source": [
        "Before we dive in, let's take a step back and outline our approach, which is generally applicable to reinforcement learning problems in general:\n",
        "\n",
        "1. **Initialize our environment and our agent**: here we will describe the different observations and actions the agent can make in the environment.\n",
        "2. **Define our agent's memory**: this will enable the agent to remember its past actions, observations, and rewards.\n",
        "3. **Define a reward function**: describes the reward associated with an action or sequence of actions.\n",
        "4. **Define the learning algorithm**: this will be used to reinforce the agent's good behaviors and discourage bad behaviors.\n"
      ]
    },
    {
      "cell_type": "markdown",
      "metadata": {
        "id": "UT7YL8KBJIIc",
        "colab_type": "text"
      },
      "source": [
        "# Part 1: Cartpole\n",
        "\n",
        "## 3.1 Define the Cartpole environment and agent\n",
        "\n",
        "### Environment \n",
        "\n",
        "In order to model the environment for both the Cartpole and Pong tasks, we'll be using a toolkit developed by OpenAI called [OpenAI Gym](https://gym.openai.com/). It provides several pre-defined environments for training and testing reinforcement learning agents, including those for classic physics control tasks, Atari video games, and robotic simulations. To access the Cartpole environment, we can use `env = gym.make(\"CartPole-v0\")`, which we gained access to when we imported the `gym` package. We can instantiate different [environments](https://gym.openai.com/envs/#classic_control) by passing the enivronment name to the `make` function.\n",
        "\n",
        "One issue we might experience when developing RL algorithms is that many aspects of the learning process are inherently random: initializing game states, changes in the environment, and the agent's actions. As such, it can be helpful to set a initial \"seed\" for the environment to ensure some level of reproducibility. Much like you might use `numpy.random.seed`, we can call the comparable function in gym, `seed`, with our defined environment to ensure the environment's random variables are initialized the same each time."
      ]
    },
    {
      "cell_type": "code",
      "metadata": {
        "id": "quv9SC0iIYFm",
        "colab_type": "code",
        "colab": {
          "base_uri": "https://localhost:8080/",
          "height": 35
        },
        "outputId": "94c73499-4e06-4aa5-890d-30ccca3e0a1c"
      },
      "source": [
        "### Instantiate the Cartpole environment ###\n",
        "\n",
        "env = gym.make(\"CartPole-v0\")\n",
        "env.seed(1)"
      ],
      "execution_count": 2,
      "outputs": [
        {
          "output_type": "execute_result",
          "data": {
            "text/plain": [
              "[1]"
            ]
          },
          "metadata": {
            "tags": []
          },
          "execution_count": 2
        }
      ]
    },
    {
      "cell_type": "markdown",
      "metadata": {
        "id": "mhEITUcKK455",
        "colab_type": "text"
      },
      "source": [
        "In Cartpole, a pole is attached by an un-actuated joint to a cart, which moves along a frictionless track. The pole starts upright, and the goal is to prevent it from falling over. The system is controlled by applying a force of +1 or -1 to the cart. A reward of +1 is provided for every timestep that the pole remains upright. The episode ends when the pole is more than 15 degrees from vertical, or the cart moves more than 2.4 units from the center of the track. A visual summary of the cartpole environment is depicted below:\n",
        "\n",
        "<img width=\"400px\" src=\"https://danielpiedrahita.files.wordpress.com/2017/02/cart-pole.png\"></img>\n",
        "\n",
        "Given this setup for the environment and the objective of the game, we can think about: 1) what observations help define the environment's state; 2) what actions the agent can take. \n",
        "\n",
        "First, let's consider the observation space. In this Cartpole environment our observations are:\n",
        "\n",
        "1. Cart position\n",
        "2. Cart velocity\n",
        "3. Pole angle\n",
        "4. Pole rotation rate\n",
        "\n",
        "We can confirm the size of the space by querying the environment's observation space:\n"
      ]
    },
    {
      "cell_type": "code",
      "metadata": {
        "id": "UVJaEcbdIX82",
        "colab_type": "code",
        "colab": {
          "base_uri": "https://localhost:8080/",
          "height": 35
        },
        "outputId": "85edb8dc-9396-4a5d-be0e-83e1a9a28c3b"
      },
      "source": [
        "n_observations = env.observation_space\n",
        "print(\"Environment has observation space =\", n_observations)"
      ],
      "execution_count": 3,
      "outputs": [
        {
          "output_type": "stream",
          "text": [
            "Environment has observation space = Box(4,)\n"
          ],
          "name": "stdout"
        }
      ]
    },
    {
      "cell_type": "markdown",
      "metadata": {
        "id": "ZibGgjrALgPM",
        "colab_type": "text"
      },
      "source": [
        "Second, we consider the action space. At every time step, the agent can move either right or left. Again we can confirm the size of the action space by querying the environment:"
      ]
    },
    {
      "cell_type": "code",
      "metadata": {
        "id": "qc9SIPxBIXrm",
        "colab_type": "code",
        "colab": {
          "base_uri": "https://localhost:8080/",
          "height": 35
        },
        "outputId": "c18d4353-3c30-43e7-f536-628f11393206"
      },
      "source": [
        "n_actions = env.action_space.n\n",
        "print(\"Number of possible actions that the agent can choose from =\", n_actions)"
      ],
      "execution_count": 4,
      "outputs": [
        {
          "output_type": "stream",
          "text": [
            "Number of possible actions that the agent can choose from = 2\n"
          ],
          "name": "stdout"
        }
      ]
    },
    {
      "cell_type": "markdown",
      "metadata": {
        "id": "pPfHME8aRKkb",
        "colab_type": "text"
      },
      "source": [
        "### Cartpole agent\n",
        "\n",
        "Now that we have instantiated the environment and understood the dimensionality of the observation and action spaces, we are ready to define our agent. In deep reinforcement learning, a deep neural network defines the agent. This network will take as input an observation of the environment and output the probability of taking each of the possible actions. Since Cartpole is defined by a low-dimensional observation space, a simple feed-forward neural network should work well for our agent. We will define this using the `Sequential` API.\n"
      ]
    },
    {
      "cell_type": "code",
      "metadata": {
        "id": "W-o_XK4oQ4eu",
        "colab_type": "code",
        "colab": {}
      },
      "source": [
        "### Define the Cartpole agent ###\n",
        "\n",
        "# Defines a feed-forward neural network\n",
        "def create_cartpole_model():\n",
        "  model = tf.keras.models.Sequential([\n",
        "      # First Dense layer\n",
        "      tf.keras.layers.Dense(units=32, activation='relu'),\n",
        "\n",
        "      # TODO: Define the last Dense layer, which will provide the network's output.\n",
        "      # Think about the space the agent needs to act in!\n",
        "      #'''TODO: Dense layer to output action probabilities'''\n",
        "      tf.keras.layers.Dense(n_actions, activation=None)\n",
        "  ])\n",
        "  return model\n",
        "\n",
        "cartpole_model = create_cartpole_model()"
      ],
      "execution_count": 5,
      "outputs": []
    },
    {
      "cell_type": "markdown",
      "metadata": {
        "id": "d5D5NSIYS2IW",
        "colab_type": "text"
      },
      "source": [
        "Now that we have defined the core network architecture, we will define an *action function* that executes a forward pass through the network, given a set of observations, and samples from the output. This sampling from the output probabilities will be used to select the next action for the agent. \n",
        "\n",
        "**Critically, this action function is totally general -- we will use this function for both Cartpole and Pong, and it is applicable to other RL tasks, as well!**"
      ]
    },
    {
      "cell_type": "code",
      "metadata": {
        "id": "E_vVZRr8Q4R_",
        "colab_type": "code",
        "colab": {}
      },
      "source": [
        "### Define the agent's action function ###\n",
        "\n",
        "# Function that takes observations as input, executes a forward pass through model, \n",
        "#   and outputs a sampled action.\n",
        "# Arguments:\n",
        "#   model: the network that defines our agent\n",
        "#   observation: observation which is fed as input to the model\n",
        "# Returns:\n",
        "#   action: choice of agent action\n",
        "def choose_action(model, observation):\n",
        "  # add batch dimension to the observation\n",
        "  observation = np.expand_dims(observation, axis=0)\n",
        "\n",
        "  '''TODO: feed the observations through the model to predict the log probabilities of each possible action.'''\n",
        "  logits = model.predict(observation)\n",
        "  \n",
        "  # pass the log probabilities through a softmax to compute true probabilities\n",
        "  prob_weights = tf.nn.softmax(logits).numpy()\n",
        "  \n",
        "  '''TODO: randomly sample from the prob_weights to pick an action.\n",
        "  Hint: carefully consider the dimensionality of the input probabilities (vector) and the output action (scalar)'''\n",
        "  action = np.random.choice(n_actions, size=1, p=prob_weights.flatten())[0]\n",
        "\n",
        "  return action"
      ],
      "execution_count": 6,
      "outputs": []
    },
    {
      "cell_type": "markdown",
      "metadata": {
        "id": "_tR9uAWcTnkr",
        "colab_type": "text"
      },
      "source": [
        "## 3.2 Define the agent's memory\n",
        "\n",
        "Now that we have instantiated the environment and defined the agent network architecture and action function, we are ready to move on to the next step in our RL workflow:\n",
        "1. **Initialize our environment and our agent**: here we will describe the different observations and actions the agent can make in the environment.\n",
        "2. **Define our agent's memory**: this will enable the agent to remember its past actions, observations, and rewards.\n",
        "3. **Define the learning algorithm**: this will be used to reinforce the agent's good behaviors and discourage bad behaviors.\n",
        "\n",
        "In reinforcement learning, training occurs alongside the agent's acting in the environment; an *episode* refers to a sequence of actions that ends in some terminal state, such as the pole falling down or the cart crashing. The agent will need to remember all of its observations and actions, such that once an episode ends, it can learn to \"reinforce\" the good actions and punish the undesirable actions via training. Our first step is to define a simple memory buffer that contains the agent's observations, actions, and received rewards from a given episode. \n",
        "\n",
        "**Once again, note the modularity of this memory buffer -- it can and will be applied to other RL tasks as well!**"
      ]
    },
    {
      "cell_type": "code",
      "metadata": {
        "id": "8MM6JwXVQ4JG",
        "colab_type": "code",
        "colab": {}
      },
      "source": [
        "### Agent Memory ###\n",
        "\n",
        "class Memory:\n",
        "  def __init__(self): \n",
        "      self.clear()\n",
        "\n",
        "  # Resets/restarts the memory buffer\n",
        "  def clear(self): \n",
        "      self.observations = []\n",
        "      self.actions = []\n",
        "      self.rewards = []\n",
        "\n",
        "  # Add observations, actions, rewards to memory\n",
        "  def add_to_memory(self, new_observation, new_action, new_reward): \n",
        "      self.observations.append(new_observation)\n",
        "      '''TODO: update the list of actions with new action'''\n",
        "      self.actions.append(new_action)\n",
        "      '''TODO: update the list of rewards with new reward'''\n",
        "      self.rewards.append(new_reward)\n",
        "        \n",
        "memory = Memory()"
      ],
      "execution_count": 7,
      "outputs": []
    },
    {
      "cell_type": "markdown",
      "metadata": {
        "id": "D4YhtPaUVj5m",
        "colab_type": "text"
      },
      "source": [
        "## 3.3 Reward function\n",
        "\n",
        "We're almost ready to begin the learning algorithm for our agent! The next step is to compute the rewards of our agent as it acts in the environment. Since we (and the agent) is uncertain about if and when the game or task will end (i.e., when the pole will fall), it is useful to emphasize getting rewards **now** rather than later in the future -- this is the idea of discounting. This is a similar concept to discounting money in the case of interest. Recall from lecture, we use reward discount to give more preference at getting rewards now rather than later in the future. The idea of discounting rewards is similar to discounting money in the case of interest.\n",
        "\n",
        "To compute the expected cumulative reward, known as the **return**, at a given timestep in a learning episode, we sum the discounted rewards expected at that time step $t$, within a learning episode, and projecting into the future. We define the return (cumulative reward) at a time step $t$, $R_{t}$ as:\n",
        "\n",
        ">$R_{t}=\\sum_{k=0}^\\infty\\gamma^kr_{t+k}$\n",
        "\n",
        "where  $0 < \\gamma < 1$ is the discount factor and $r_{t}$ is the reward at time step $t$, and the index $k$ increments projection into the future within a single learning episode. Intuitively, you can think of this function as depreciating any rewards received at later time steps, which will force the agent prioritize getting rewards now. Since we can't extend episodes to infinity, in practice the computation will be limited to the number of timesteps in an episode -- after that the reward is assumed to be zero.\n",
        "\n",
        "Take note of the form of this sum -- we'll have to be clever about how we implement this function. Specifically, we'll need to initialize an array of zeros, with length of the number of time steps, and fill it with the real discounted reward values as we loop through the rewards from the episode, which will have been saved in the agents memory. What we ultimately care about is which actions are better relative to other actions taken in that episode -- so, we'll normalize our computed rewards, using the mean and standard deviation of the rewards across the learning episode.\n"
      ]
    },
    {
      "cell_type": "code",
      "metadata": {
        "id": "5_Q2OFYtQ32X",
        "colab_type": "code",
        "colab": {}
      },
      "source": [
        "### Reward function ###\n",
        "\n",
        "# Helper function that normalizes an np.array x\n",
        "def normalize(x):\n",
        "  x -= np.mean(x)\n",
        "  x /= np.std(x)\n",
        "  return x.astype(np.float32)\n",
        "\n",
        "# Compute normalized, discounted, cumulative rewards (i.e., return)\n",
        "# Arguments:\n",
        "#   rewards: reward at timesteps in episode\n",
        "#   gamma: discounting factor\n",
        "# Returns:\n",
        "#   normalized discounted reward\n",
        "def discount_rewards(rewards, gamma=0.95): \n",
        "  discounted_rewards = np.zeros_like(rewards)\n",
        "  R = 0\n",
        "  for t in reversed(range(0, len(rewards))):\n",
        "      # update the total discounted reward\n",
        "      R = R * gamma + rewards[t]\n",
        "      discounted_rewards[t] = R\n",
        "      \n",
        "  return normalize(discounted_rewards)"
      ],
      "execution_count": 8,
      "outputs": []
    },
    {
      "cell_type": "markdown",
      "metadata": {
        "id": "QzbY-mjGYcmt",
        "colab_type": "text"
      },
      "source": [
        "## 3.4 Learning algorithm\n",
        "\n",
        "Now we can start to define the learing algorithm which will be used to reinforce good behaviors of the agent and discourage bad behaviours. In this lab, we will focus on *policy gradient* methods which aim to **maximize** the likelihood of actions that result in large rewards. Equivalently, this means that we want to **minimize** the negative likelihood of these same actions. We achieve this by simply **scaling** the probabilities by their associated rewards -- effectively amplifying the likelihood of actions that result in large rewards.\n",
        "\n",
        "Since the log function is monotonically increasing, this means that minimizing **negative likelihood** is equivalent to minimizing **negative log-likelihood**.  Recall that we can easily compute the negative log-likelihood of a discrete action by evaluting its [softmax cross entropy](https://www.tensorflow.org/api_docs/python/tf/nn/sparse_softmax_cross_entropy_with_logits). Like in supervised learning, we can use stochastic gradient descent methods to achieve the desired minimization. \n",
        "\n",
        "Let's begin by defining the loss function."
      ]
    },
    {
      "cell_type": "code",
      "metadata": {
        "id": "fsgZ3IDCY_Zn",
        "colab_type": "code",
        "colab": {}
      },
      "source": [
        "### Loss function ###\n",
        "\n",
        "# Arguments:\n",
        "#   logits: network's predictions for actions to take\n",
        "#   actions: the actions the agent took in an episode\n",
        "#   rewards: the rewards the agent received in an episode\n",
        "# Returns:\n",
        "#   loss\n",
        "def compute_loss(logits, actions, rewards): \n",
        "  '''TODO: complete the function call to compute the negative log probabilities'''\n",
        "  neg_logprob = tf.nn.sparse_softmax_cross_entropy_with_logits(logits=logits, labels=actions)\n",
        "  \n",
        "  '''TODO: scale the negative log probability by the rewards'''\n",
        "  loss = tf.reduce_mean(neg_logprob * rewards)\n",
        "  return loss"
      ],
      "execution_count": 10,
      "outputs": []
    },
    {
      "cell_type": "markdown",
      "metadata": {
        "id": "Rr5vQ9fqbPpp",
        "colab_type": "text"
      },
      "source": [
        "Now let's use the loss function to define a training step of our learning algorithm:"
      ]
    },
    {
      "cell_type": "code",
      "metadata": {
        "id": "_50ada7nbZ7L",
        "colab_type": "code",
        "colab": {}
      },
      "source": [
        "### Training step (forward and backpropagation) ###\n",
        "\n",
        "def train_step(model, optimizer, observations, actions, discounted_rewards):\n",
        "  with tf.GradientTape() as tape:\n",
        "      # Forward propagate through the agent network\n",
        "      logits = model(observations)\n",
        "\n",
        "      '''TODO: call the compute_loss function to compute the loss'''\n",
        "      loss = compute_loss(logits, actions, discounted_rewards)\n",
        "\n",
        "  '''TODO: run backpropagation to minimize the loss using the tape.gradient method.\n",
        "      Use `model.trainable_variables`'''\n",
        "  grads = tape.gradient(loss, model.trainable_variables)\n",
        "  optimizer.apply_gradients(zip(grads, model.trainable_variables))\n"
      ],
      "execution_count": 11,
      "outputs": []
    },
    {
      "cell_type": "markdown",
      "metadata": {
        "id": "XsjKXh6BcgjR",
        "colab_type": "text"
      },
      "source": [
        "## 3.5 Run cartpole!\n",
        "\n",
        "Having had no prior knowledge of the environment, the agent will begin to learn how to balance the pole on the cart based only on the feedback received from the environment! Having defined how our agent can move, how it takes in new observations, and how it updates its state, we'll see how it gradually learns a policy of actions to optimize balancing the pole as long as possible. To do this, we'll track how the rewards evolve as a function of training -- how should the rewards change as training progresses?"
      ]
    },
    {
      "cell_type": "code",
      "metadata": {
        "id": "XmOzc2rrcn8Q",
        "colab_type": "code",
        "colab": {
          "base_uri": "https://localhost:8080/",
          "height": 541
        },
        "outputId": "550dac57-af15-427d-90b6-9f196181ca69"
      },
      "source": [
        "### Cartpole training! ###\n",
        "\n",
        "# Learning rate and optimizer\n",
        "learning_rate = 1e-3\n",
        "optimizer = tf.keras.optimizers.Adam(learning_rate)\n",
        "\n",
        "# instantiate cartpole agent\n",
        "cartpole_model = create_cartpole_model()\n",
        "\n",
        "# to track our progress\n",
        "smoothed_reward = mdl.util.LossHistory(smoothing_factor=0.9)\n",
        "plotter = mdl.util.PeriodicPlotter(sec=2, xlabel='Iterations', ylabel='Rewards')\n",
        "\n",
        "if hasattr(tqdm, '_instances'): tqdm._instances.clear() # clear if it exists\n",
        "for i_episode in range(500):\n",
        "\n",
        "  plotter.plot(smoothed_reward.get())\n",
        "\n",
        "  # Restart the environment\n",
        "  observation = env.reset()\n",
        "  memory.clear()\n",
        "\n",
        "  while True:\n",
        "      # using our observation, choose an action and take it in the environment\n",
        "      action = choose_action(cartpole_model, observation)\n",
        "      next_observation, reward, done, info = env.step(action)\n",
        "      # add to memory\n",
        "      memory.add_to_memory(observation, action, reward)\n",
        "      \n",
        "      # is the episode over? did you crash or do so well that you're done?\n",
        "      if done:\n",
        "          # determine total reward and keep a record of this\n",
        "          total_reward = sum(memory.rewards)\n",
        "          smoothed_reward.append(total_reward)\n",
        "          \n",
        "          # initiate training - remember we don't know anything about how the \n",
        "          #   agent is doing until it has crashed!\n",
        "          train_step(cartpole_model, optimizer, \n",
        "                     observations=np.vstack(memory.observations),\n",
        "                     actions=np.array(memory.actions),\n",
        "                     discounted_rewards = discount_rewards(memory.rewards))\n",
        "          \n",
        "          # reset the memory\n",
        "          memory.clear()\n",
        "          break\n",
        "      # update our observatons\n",
        "      observation = next_observation"
      ],
      "execution_count": 13,
      "outputs": [
        {
          "output_type": "display_data",
          "data": {
            "image/png": "[encoded data removed]",
            "text/plain": [
              "<Figure size 432x288 with 1 Axes>"
            ]
          },
          "metadata": {
            "tags": []
          }
        },
        {
          "output_type": "display_data",
          "data": {
            "image/png": "[encoded data removed]",
            "text/plain": [
              "<Figure size 432x288 with 1 Axes>"
            ]
          },
          "metadata": {
            "tags": [],
            "needs_background": "light"
          }
        }
      ]
    },
    {
      "cell_type": "markdown",
      "metadata": {
        "id": "mkcUtGF1VE-K",
        "colab_type": "text"
      },
      "source": [
        "To get a sense of how our agent did, we can save a video of the trained model working on balancing the pole. Realize that this is a brand new environment that the agent has not seen before!\n",
        "\n",
        "Let's display the saved video to watch how our agent did!\n"
      ]
    },
    {
      "cell_type": "code",
      "metadata": {
        "id": "PAYBkv6Zbk0J",
        "colab_type": "code",
        "colab": {
          "base_uri": "https://localhost:8080/",
          "height": 460
        },
        "outputId": "4f9afb74-4dfd-4df5-e26d-2ea840e670d9"
      },
      "source": [
        "saved_cartpole = mdl.lab3.save_video_of_model(cartpole_model, \"CartPole-v0\")\n",
        "mdl.lab3.play_video(saved_cartpole)"
      ],
      "execution_count": 14,
      "outputs": [
        {
          "output_type": "stream",
          "text": [
            "Successfully saved 95 frames into CartPole-v0.mp4!\n"
          ],
          "name": "stdout"
        },
        {
          "output_type": "execute_result",
          "data": {
            "text/html": [
              "\n",
              "        <video controls>\n",
              "            <source src=\"data:video/mp4;base64,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\" type=\"video/mp4\" />\n",
              "        </video>"
            ],
            "text/plain": [
              "<IPython.core.display.HTML object>"
            ]
          },
          "metadata": {
            "tags": []
          },
          "execution_count": 14
        }
      ]
    },
    {
      "cell_type": "markdown",
      "metadata": {
        "id": "CSbVNDpaVb3_",
        "colab_type": "text"
      },
      "source": [
        "How does the agent perform? Could you train it for shorter amounts of time and still perform well? Do you think that training longer would help even more? "
      ]
    },
    {
      "cell_type": "markdown",
      "metadata": {
        "id": "Eu6Mqxc720ST",
        "colab_type": "text"
      },
      "source": [
        "#Part 2: Pong\n",
        "\n",
        "In Cartpole, we dealt with an environment that was static -- in other words, it didn't change over time. What happens if our environment is dynamic and unpredictable? Well that's exactly the case in [Pong](https://en.wikipedia.org/wiki/Pong), since part of the environment is the opposing player. We don't know how our opponent will act or react to our actions, so the complexity of our problem increases. It also becomes much more interesting, since we can compete to beat our opponent. RL provides a powerful framework for training AI systems with the ability to handle and interact with dynamic, unpredictable environments. In this part of the lab, we'll use the tools and workflow we explored in Part 1 to build an RL agent capable of playing the game of Pong.\n"
      ]
    },
    {
      "cell_type": "markdown",
      "metadata": {
        "id": "srZ4YE29isuA",
        "colab_type": "text"
      },
      "source": [
        "## 3.6 Define and inspect the Pong environment\n",
        "\n",
        "As with Cartpole, we'll instantiate the Pong environment in the OpenAI gym, using a seed of 1."
      ]
    },
    {
      "cell_type": "code",
      "metadata": {
        "id": "lbYHLr66i15n",
        "colab_type": "code",
        "colab": {}
      },
      "source": [
        "env = gym.make(\"Pong-v0\", frameskip=5)\n",
        "env.seed(1); # for reproducibility"
      ],
      "execution_count": 15,
      "outputs": []
    },
    {
      "cell_type": "markdown",
      "metadata": {
        "id": "52uZ2Xhyi-MW",
        "colab_type": "text"
      },
      "source": [
        "Let's next consider the observation space for the Pong environment. Instead of four physical descriptors of the cart-pole setup, in the case of Pong our observations are the individual video frames (i.e., images) that depict the state of the board. Thus, the observations are 210x160 RGB images (arrays of shape (210,160,3)).\n",
        "\n",
        "We can again confirm the size of the observation space by query:"
      ]
    },
    {
      "cell_type": "code",
      "metadata": {
        "id": "0yX4GWvxjnHS",
        "colab_type": "code",
        "colab": {
          "base_uri": "https://localhost:8080/",
          "height": 35
        },
        "outputId": "e8941d1a-6d4b-42c0-9692-96e44f9c26c0"
      },
      "source": [
        "print(\"Environment has observation space =\", env.observation_space)"
      ],
      "execution_count": 16,
      "outputs": [
        {
          "output_type": "stream",
          "text": [
            "Environment has observation space = Box(210, 160, 3)\n"
          ],
          "name": "stdout"
        }
      ]
    },
    {
      "cell_type": "markdown",
      "metadata": {
        "id": "uuEC2TdSjx9D",
        "colab_type": "text"
      },
      "source": [
        "In Pong, at every time step, the agent (which controls the paddle) has six actions to choose from: no-op (no operation), move right, move left, fire, fire right, and fire left. Let's confirm the size of the action space by querying the environment:"
      ]
    },
    {
      "cell_type": "code",
      "metadata": {
        "id": "Iuy9oPc1kag3",
        "colab_type": "code",
        "colab": {
          "base_uri": "https://localhost:8080/",
          "height": 35
        },
        "outputId": "b9bdcb05-8521-42d3-f11c-b2f8d1e824cd"
      },
      "source": [
        "n_actions = env.action_space.n\n",
        "print(\"Number of possible actions that the agent can choose from =\", n_actions)"
      ],
      "execution_count": 17,
      "outputs": [
        {
          "output_type": "stream",
          "text": [
            "Number of possible actions that the agent can choose from = 6\n"
          ],
          "name": "stdout"
        }
      ]
    },
    {
      "cell_type": "markdown",
      "metadata": {
        "id": "9-fghDRigUE5",
        "colab_type": "text"
      },
      "source": [
        "## 3.7 Define the Pong agent\n",
        "\n",
        "As before, we'll use a neural network to define our agent. What network architecture do you think would be especially well suited to this game? Since our observations are now in the form of images, we'll add convolutional layers to the network to increase the learning capacity of our network."
      ]
    },
    {
      "cell_type": "code",
      "metadata": {
        "id": "IJiqbFYpgYRH",
        "colab_type": "code",
        "colab": {}
      },
      "source": [
        "### Define the Pong agent ###\n",
        "\n",
        "# Functionally define layers for convenience\n",
        "# All convolutional layers will have ReLu activation\n",
        "Conv2D = functools.partial(tf.keras.layers.Conv2D, padding='same', activation='relu')\n",
        "Flatten = tf.keras.layers.Flatten\n",
        "Dense = tf.keras.layers.Dense\n",
        "\n",
        "# Defines a CNN for the Pong agent\n",
        "def create_pong_model():\n",
        "  model = tf.keras.models.Sequential([\n",
        "    # Convolutional layers\n",
        "    # First, 16 7x7 filters with 4x4 stride\n",
        "    Conv2D(filters=16, kernel_size=7, strides=4),\n",
        "\n",
        "    # TODO: define convolutional layers with 32 5x5 filters and 2x2 stride\n",
        "    Conv2D(filters=32, kernel_size=5, strides=2),\n",
        "\n",
        "    # TODO: define convolutional layers with 48 3x3 filters and 2x2 stride\n",
        "    Conv2D(filters=48, kernel_size=3, strides=2),\n",
        "\n",
        "    Flatten(),\n",
        "    \n",
        "    # Fully connected layer and output\n",
        "    Dense(units=64, activation='relu'),\n",
        "    # TODO: define the output dimension of the last Dense layer. \n",
        "    # Pay attention to the space the agent needs to act in\n",
        "    Dense(n_actions, activation=None)\n",
        "  \n",
        "  ])\n",
        "  return model\n",
        "\n",
        "pong_model = create_pong_model()"
      ],
      "execution_count": 19,
      "outputs": []
    },
    {
      "cell_type": "markdown",
      "metadata": {
        "id": "yaeZ067olFiJ",
        "colab_type": "text"
      },
      "source": [
        "Since we've already defined the action function, `choose_action(model, observation)`, we don't need to define it again. Instead, we'll be able to reuse it later on by passing in our new model we've just created, `pong_model`. This is awesome because our action function provides a modular and generalizable method for all sorts of RL agents!"
      ]
    },
    {
      "cell_type": "markdown",
      "metadata": {
        "id": "l0RvqOVkmc2r",
        "colab_type": "text"
      },
      "source": [
        "## 3.8 Pong-specific functions\n",
        "\n",
        "In Part 1 (Cartpole), we implemented some key functions and classes to build and train our RL agent -- `choose_action(model, observation)` and the `Memory` class, for example. However, in getting ready to apply these to a new game like Pong, we might need to make some slight modifications. \n",
        "\n",
        "Namely, we need to think about what happens when a game ends. In Pong, we know a game has ended if the reward is +1 (we won!) or -1 (we lost unfortunately). Otherwise, we expect the reward at a timestep to be zero -- the players (or agents) are just playing eachother. So, after a game ends, we will need to reset the reward to zero when a game ends. This will result in a modified reward function."
      ]
    },
    {
      "cell_type": "code",
      "metadata": {
        "id": "iEZG2o50luLu",
        "colab_type": "code",
        "colab": {}
      },
      "source": [
        "### Pong reward function ###\n",
        "\n",
        "# Compute normalized, discounted rewards for Pong (i.e., return)\n",
        "# Arguments:\n",
        "#   rewards: reward at timesteps in episode\n",
        "#   gamma: discounting factor. Note increase to 0.99 -- rate of depreciation will be slower.\n",
        "# Returns:\n",
        "#   normalized discounted reward\n",
        "def discount_rewards(rewards, gamma=0.99): \n",
        "  discounted_rewards = np.zeros_like(rewards)\n",
        "  R = 0\n",
        "  for t in reversed(range(0, len(rewards))):\n",
        "      # NEW: Reset the sum if the reward is not 0 (the game has ended!)\n",
        "      if rewards[t] != 0:\n",
        "        R = 0\n",
        "      # update the total discounted reward as before\n",
        "      R = R * gamma + rewards[t]\n",
        "      discounted_rewards[t] = R\n",
        "      \n",
        "  return normalize(discounted_rewards)"
      ],
      "execution_count": 20,
      "outputs": []
    },
    {
      "cell_type": "markdown",
      "metadata": {
        "id": "HopLpb4IoOqA",
        "colab_type": "text"
      },
      "source": [
        "Additionally, we have to consider the nature of the observations in the Pong environment, and how they will be fed into our network. Our observations in this case are images. Before we input an image into our network, we'll do a bit of pre-processing to crop and scale, clean up the background colors to a single color, and set the important game elements to a single color. Let's use this function to visualize what an observation might look like before and after pre-processing."
      ]
    },
    {
      "cell_type": "code",
      "metadata": {
        "id": "no5IIYtFm8pI",
        "colab_type": "code",
        "colab": {
          "base_uri": "https://localhost:8080/",
          "height": 227
        },
        "outputId": "d28bf555-7a19-44e9-86cf-22a7706d0939"
      },
      "source": [
        "observation = env.reset()\n",
        "for i in range(30):\n",
        "  observation, _,_,_ = env.step(0)\n",
        "observation_pp = mdl.lab3.preprocess_pong(observation)\n",
        "\n",
        "f = plt.figure(figsize=(10,3))\n",
        "ax = f.add_subplot(121)\n",
        "ax2 = f.add_subplot(122)\n",
        "ax.imshow(observation); ax.grid(False);\n",
        "ax2.imshow(np.squeeze(observation_pp)); ax2.grid(False); plt.title('Preprocessed Observation');"
      ],
      "execution_count": 21,
      "outputs": [
        {
          "output_type": "display_data",
          "data": {
            "image/png": "[encoded data removed]",
            "text/plain": [
              "<Figure size 720x216 with 2 Axes>"
            ]
          },
          "metadata": {
            "tags": [],
            "needs_background": "light"
          }
        }
      ]
    },
    {
      "cell_type": "markdown",
      "metadata": {
        "id": "bYwIWC-Cz8F2",
        "colab_type": "text"
      },
      "source": [
        "What do you notice? How might these changes be important for training our RL algorithm?"
      ]
    },
    {
      "cell_type": "markdown",
      "metadata": {
        "id": "mRqcaDQ1pm3x",
        "colab_type": "text"
      },
      "source": [
        "## 3.9 Training Pong\n",
        "\n",
        "We're now all set up to start training our RL algorithm and agent for the game of Pong! We've already defined our loss function with `compute_loss`, which employs policy gradient learning, as well as our backpropagation step with `train_step` which is beautiful! We will use these functions to execute training the Pong agent. Let's walk through the training block.\n",
        "\n",
        "In Pong, rather than feeding our network one image at a time, it can actually improve performance to input the difference between two consecutive observations, which really gives us information about the movement between frames -- how the game is changing. We'll first pre-process the raw observation, `x`, and then we'll compute the difference with the image frame we saw one timestep before. \n",
        "\n",
        "This observation change will be forward propagated through our Pong agent, the CNN network model, which will then predict the next action to take based on this observation. The raw reward will be computed, and the observation, action, and reward will be recorded into memory. This will continue until a training episode, i.e., a game, ends.\n",
        "\n",
        "Then, we will compute the discounted rewards, and use this information to execute a training step. Memory will be cleared, and we will do it all over again!\n",
        "\n",
        "Let's run the code block to train our Pong agent. Note that completing training will take quite a bit of time (estimated at least a couple of hours). We will again visualize the evolution of the total reward as a function of training to get a sense of how the agent is learning."
      ]
    },
    {
      "cell_type": "code",
      "metadata": {
        "id": "xCwyQQrPnkZG",
        "colab_type": "code",
        "colab": {}
      },
      "source": [
        "### Training Pong ###\n",
        "\n",
        "# Hyperparameters\n",
        "learning_rate=1e-4\n",
        "MAX_ITERS = 10000 # increase the maximum number of episodes, since Pong is more complex!\n",
        "\n",
        "# Model and optimizer\n",
        "pong_model = create_pong_model()\n",
        "optimizer = tf.keras.optimizers.Adam(learning_rate)\n",
        "\n",
        "# plotting\n",
        "smoothed_reward = mdl.util.LossHistory(smoothing_factor=0.9)\n",
        "plotter = mdl.util.PeriodicPlotter(sec=5, xlabel='Iterations', ylabel='Rewards')\n",
        "memory = Memory()\n",
        "\n",
        "for i_episode in range(MAX_ITERS):\n",
        "\n",
        "  plotter.plot(smoothed_reward.get())\n",
        "\n",
        "  # Restart the environment\n",
        "  observation = env.reset()\n",
        "  previous_frame = mdl.lab3.preprocess_pong(observation)\n",
        "\n",
        "  while True:\n",
        "      # Pre-process image \n",
        "      current_frame = mdl.lab3.preprocess_pong(observation)\n",
        "      \n",
        "      '''TODO: determine the observation change\n",
        "      Hint: this is the difference between the past two frames'''\n",
        "      obs_change = # TODO\n",
        "      \n",
        "      '''TODO: choose an action for the pong model, using the frame difference, and evaluate'''\n",
        "      action = # TODO\n",
        "      # Take the chosen action\n",
        "      next_observation, reward, done, info = env.step(action)\n",
        "\n",
        "      '''TODO: save the observed frame difference, the action that was taken, and the resulting reward!'''\n",
        "      memory.add_to_memory('''TODO''', '''TODO''', '''TODO''')\n",
        "      \n",
        "      # is the episode over? did you crash or do so well that you're done?\n",
        "      if done:\n",
        "          # determine total reward and keep a record of this\n",
        "          total_reward = sum(memory.rewards)\n",
        "          smoothed_reward.append( total_reward )\n",
        "\n",
        "          # begin training\n",
        "          train_step(pong_model, \n",
        "                     optimizer, \n",
        "                     observations = np.stack(memory.observations, 0), \n",
        "                     actions = np.array(memory.actions),\n",
        "                     discounted_rewards = discount_rewards(memory.rewards))\n",
        "          \n",
        "          memory.clear()\n",
        "          break\n",
        "\n",
        "      observation = next_observation\n",
        "      previous_frame = current_frame"
      ],
      "execution_count": null,
      "outputs": []
    },
    {
      "cell_type": "markdown",
      "metadata": {
        "id": "8LiEY5Y_ts-Z",
        "colab_type": "text"
      },
      "source": [
        "Finally we can put our trained agent to the test! It will play in a newly instantiated Pong environment against the \"computer\", a base AI system for Pong. Your agent plays as the green paddle. Let's watch the match instant replay!"
      ]
    },
    {
      "cell_type": "code",
      "metadata": {
        "id": "TvHXbkL0tR6M",
        "colab_type": "code",
        "colab": {}
      },
      "source": [
        "saved_pong = mdl.lab3.save_video_of_model(\n",
        "    pong_model, \"Pong-v0\", obs_diff=True, \n",
        "    pp_fn=mdl.lab3.preprocess_pong)\n",
        "mdl.lab3.play_video(saved_pong)"
      ],
      "execution_count": null,
      "outputs": []
    },
    {
      "cell_type": "markdown",
      "metadata": {
        "id": "TIlwIgBP3Js6",
        "colab_type": "text"
      },
      "source": [
        "## 3.10 Conclusion\n",
        "\n",
        "That's it! Congratulations on training two RL agents and putting them to the test! We encourage you to consider the following:\n",
        "\n",
        "*   How does the agent perform?\n",
        "*   Could you train it for shorter amounts of time  and still perform well?\n",
        "*   Do you think that training longer would help even more? \n",
        "* How does the complexity of Pong relative to Cartpole alter the rate at which the agent learns and its performance? \n",
        "* What are some things you could change about the agent or the learning process to potentially improve performance?\n",
        "\n",
        "If you want to go further, try to optimize your model to achieve the best performance! **[Email us](mailto:introtodeeplearning-staff@mit.edu) a copy of your notebook with the Pong training executed AND a saved video of your Pong agent competing! We'll give out prizes to the best performers!**"
      ]
    }
  ]
}