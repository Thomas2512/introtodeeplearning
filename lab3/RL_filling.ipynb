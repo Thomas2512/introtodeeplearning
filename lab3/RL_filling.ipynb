{
  "nbformat": 4,
  "nbformat_minor": 0,
  "metadata": {
    "colab": {
      "name": "RL.ipynb",
      "provenance": [],
      "collapsed_sections": [
        "jrI6q7RmWQam"
      ]
    },
    "kernelspec": {
      "name": "python3",
      "display_name": "Python 3"
    },
    "accelerator": "GPU"
  },
  "cells": [
    {
      "cell_type": "markdown",
      "metadata": {
        "id": "jrI6q7RmWQam",
        "colab_type": "text"
      },
      "source": [
        "<table align=\"center\">\n",
        "  <td align=\"center\"><a target=\"_blank\" href=\"http://introtodeeplearning.com\">\n",
        "        <img src=\"http://introtodeeplearning.com/images/colab/mit.png\" style=\"padding-bottom:5px;\" />\n",
        "      Visit MIT Deep Learning</a></td>\n",
        "  <td align=\"center\"><a target=\"_blank\" href=\"https://colab.research.google.com/Thomas2512/introtodeeplearning/blob/master/lab3/RL_filling.ipynb\">\n",
        "        <img src=\"http://introtodeeplearning.com/images/colab/colab.png?v2.0\"  style=\"padding-bottom:5px;\" />Run in Google Colab</a></td>\n",
        "  <td align=\"center\"><a target=\"_blank\" href=\"https://github.com/Thomas2512/introtodeeplearning/blob/master/lab3/RL_filling.ipynb\">\n",
        "        <img src=\"http://introtodeeplearning.com/images/colab/github.png\"  height=\"70px\" style=\"padding-bottom:5px;\"  />View Source on GitHub</a></td>\n",
        "</table>\n",
        "\n",
        "# Copyright Information"
      ]
    },
    {
      "cell_type": "code",
      "metadata": {
        "id": "wkd375upWYok",
        "colab_type": "code",
        "colab": {}
      },
      "source": [
        "# Copyright 2020 MIT 6.S191 Introduction to Deep Learning. All Rights Reserved.\n",
        "# \n",
        "# Licensed under the MIT License. You may not use this file except in compliance\n",
        "# with the License. Use and/or modification of this code outside of 6.S191 must\n",
        "# reference:\n",
        "#\n",
        "# © MIT 6.S191: Introduction to Deep Learning\n",
        "# http://introtodeeplearning.com\n",
        "#"
      ],
      "execution_count": 1,
      "outputs": []
    },
    {
      "cell_type": "markdown",
      "metadata": {
        "id": "WoXYKhfZMHiw",
        "colab_type": "text"
      },
      "source": [
        "# Laboratory 3: Reinforcement Learning\n",
        "\n",
        "Reinforcement learning (RL) is a subset of machine learning which poses learning problems as interactions between agents and environments. It often assumes agents have no prior knowledge of a world, so they must learn to navigate environments by optimizing a reward function. Within an environment, an agent can take certain actions and receive feedback, in the form of positive or negative rewards, with respect to their decision. As such, an agent's feedback loop is somewhat akin to the idea of \"trial and error\", or the manner in which a child might learn to distinguish between \"good\" and \"bad\" actions.\n",
        "\n",
        "In practical terms, our RL agent will interact with the environment by taking an action at each timestep, receiving a corresponding reward, and updating its state according to what it has \"learned\".  \n",
        "\n",
        "![alt text](https://www.kdnuggets.com/images/reinforcement-learning-fig1-700.jpg)\n",
        "\n",
        "While the ultimate goal of reinforcement learning is to teach agents to act in the real, physical world, games provide a convenient proving ground for developing RL algorithms and agents. Games have some properties that make them particularly well suited for RL: \n",
        "\n",
        "1.   In many cases, games have perfectly describable environments. For example, all rules of chess can be formally written and programmed into a chess game simulator;\n",
        "2.   Games are massively parallelizable. Since they do not require running in the real world, simultaneous environments can be run on large data clusters; \n",
        "3.   Simpler scenarios in games enable fast prototyping. This speeds up the development of algorithms that could eventually run in the real-world; and\n",
        "4.   ... Games are fun! \n",
        "\n",
        "In previous labs, we have explored both supervised (with LSTMs, CNNs) and unsupervised / semi-supervised (with VAEs) learning tasks. Reinforcement learning is fundamentally different, in that we are training a deep learning algorithm to govern the actions of our RL agent, that is trying, within its environment, to find the optimal way to achieve a goal. The goal of training an RL agent is to determine the best next step to take to earn the greatest final payoff or return. In this lab, we focus on building a reinforcement learning algorithm to master two different environments with varying complexity. \n",
        "\n",
        "1.   **Cartpole**:   Balance a pole, protruding from a cart, in an upright position by only moving the base left or right. Environment with a low-dimensional observation space.\n",
        "2.   [**Pong**](https://en.wikipedia.org/wiki/Pong): Beat your competitors (whether other AI or humans!) at the game of Pong. Environment with a high-dimensional observation space -- learning directly from raw pixels.\n",
        "\n",
        "Let's get started! First we'll import TensorFlow, the course package, and some dependencies.\n"
      ]
    },
    {
      "cell_type": "code",
      "metadata": {
        "id": "EvdePP-VyVWp",
        "colab_type": "code",
        "colab": {
          "base_uri": "https://localhost:8080/",
          "height": 329
        },
        "outputId": "a7e830e9-40fa-4b27-ed08-0049ede5b213"
      },
      "source": [
        "!apt-get install -y xvfb python-opengl x11-utils > /dev/null 2>&1\n",
        "!pip install gym pyvirtualdisplay scikit-video > /dev/null 2>&1\n",
        "\n",
        "%tensorflow_version 2.x\n",
        "import tensorflow as tf\n",
        "\n",
        "import numpy as np\n",
        "import base64, io, time, gym\n",
        "import IPython, functools\n",
        "import matplotlib.pyplot as plt\n",
        "from tqdm import tqdm\n",
        "\n",
        "!pip install mitdeeplearning\n",
        "import mitdeeplearning as mdl"
      ],
      "execution_count": 2,
      "outputs": [
        {
          "output_type": "stream",
          "text": [
            "Collecting mitdeeplearning\n",
            "\u001b[?25l  Downloading https://files.pythonhosted.org/packages/8b/3b/b9174b68dc10832356d02a2d83a64b43a24f1762c172754407d22fc8f960/mitdeeplearning-0.1.2.tar.gz (2.1MB)\n",
            "\u001b[K     |████████████████████████████████| 2.1MB 8.5MB/s \n",
            "\u001b[?25hRequirement already satisfied: numpy in /usr/local/lib/python3.6/dist-packages (from mitdeeplearning) (1.18.5)\n",
            "Requirement already satisfied: regex in /usr/local/lib/python3.6/dist-packages (from mitdeeplearning) (2019.12.20)\n",
            "Requirement already satisfied: tqdm in /usr/local/lib/python3.6/dist-packages (from mitdeeplearning) (4.41.1)\n",
            "Requirement already satisfied: gym in /usr/local/lib/python3.6/dist-packages (from mitdeeplearning) (0.17.2)\n",
            "Requirement already satisfied: scipy in /usr/local/lib/python3.6/dist-packages (from gym->mitdeeplearning) (1.4.1)\n",
            "Requirement already satisfied: cloudpickle<1.4.0,>=1.2.0 in /usr/local/lib/python3.6/dist-packages (from gym->mitdeeplearning) (1.3.0)\n",
            "Requirement already satisfied: pyglet<=1.5.0,>=1.4.0 in /usr/local/lib/python3.6/dist-packages (from gym->mitdeeplearning) (1.5.0)\n",
            "Requirement already satisfied: future in /usr/local/lib/python3.6/dist-packages (from pyglet<=1.5.0,>=1.4.0->gym->mitdeeplearning) (0.16.0)\n",
            "Building wheels for collected packages: mitdeeplearning\n",
            "  Building wheel for mitdeeplearning (setup.py) ... \u001b[?25l\u001b[?25hdone\n",
            "  Created wheel for mitdeeplearning: filename=mitdeeplearning-0.1.2-cp36-none-any.whl size=2114585 sha256=e78683b51053f5149e43bed8b8ee3f29bd3c54a1ede469e0a2f4d26eda9adf4c\n",
            "  Stored in directory: /root/.cache/pip/wheels/27/e1/73/5f01c787621d8a3c857f59876c79e304b9b64db9ff5bd61b74\n",
            "Successfully built mitdeeplearning\n",
            "Installing collected packages: mitdeeplearning\n",
            "Successfully installed mitdeeplearning-0.1.2\n"
          ],
          "name": "stdout"
        }
      ]
    },
    {
      "cell_type": "markdown",
      "metadata": {
        "id": "zmrHSiXKTXTY",
        "colab_type": "text"
      },
      "source": [
        "Before we dive in, let's take a step back and outline our approach, which is generally applicable to reinforcement learning problems in general:\n",
        "\n",
        "1. **Initialize our environment and our agent**: here we will describe the different observations and actions the agent can make in the environment.\n",
        "2. **Define our agent's memory**: this will enable the agent to remember its past actions, observations, and rewards.\n",
        "3. **Define a reward function**: describes the reward associated with an action or sequence of actions.\n",
        "4. **Define the learning algorithm**: this will be used to reinforce the agent's good behaviors and discourage bad behaviors.\n"
      ]
    },
    {
      "cell_type": "markdown",
      "metadata": {
        "id": "UT7YL8KBJIIc",
        "colab_type": "text"
      },
      "source": [
        "# Part 1: Cartpole\n",
        "\n",
        "## 3.1 Define the Cartpole environment and agent\n",
        "\n",
        "### Environment \n",
        "\n",
        "In order to model the environment for both the Cartpole and Pong tasks, we'll be using a toolkit developed by OpenAI called [OpenAI Gym](https://gym.openai.com/). It provides several pre-defined environments for training and testing reinforcement learning agents, including those for classic physics control tasks, Atari video games, and robotic simulations. To access the Cartpole environment, we can use `env = gym.make(\"CartPole-v0\")`, which we gained access to when we imported the `gym` package. We can instantiate different [environments](https://gym.openai.com/envs/#classic_control) by passing the enivronment name to the `make` function.\n",
        "\n",
        "One issue we might experience when developing RL algorithms is that many aspects of the learning process are inherently random: initializing game states, changes in the environment, and the agent's actions. As such, it can be helpful to set a initial \"seed\" for the environment to ensure some level of reproducibility. Much like you might use `numpy.random.seed`, we can call the comparable function in gym, `seed`, with our defined environment to ensure the environment's random variables are initialized the same each time."
      ]
    },
    {
      "cell_type": "code",
      "metadata": {
        "id": "quv9SC0iIYFm",
        "colab_type": "code",
        "colab": {
          "base_uri": "https://localhost:8080/",
          "height": 35
        },
        "outputId": "31e8dee3-2034-41b8-de58-ccd36d2c3525"
      },
      "source": [
        "### Instantiate the Cartpole environment ###\n",
        "\n",
        "env = gym.make(\"CartPole-v0\")\n",
        "env.seed(1)"
      ],
      "execution_count": 3,
      "outputs": [
        {
          "output_type": "execute_result",
          "data": {
            "text/plain": [
              "[1]"
            ]
          },
          "metadata": {
            "tags": []
          },
          "execution_count": 3
        }
      ]
    },
    {
      "cell_type": "markdown",
      "metadata": {
        "id": "mhEITUcKK455",
        "colab_type": "text"
      },
      "source": [
        "In Cartpole, a pole is attached by an un-actuated joint to a cart, which moves along a frictionless track. The pole starts upright, and the goal is to prevent it from falling over. The system is controlled by applying a force of +1 or -1 to the cart. A reward of +1 is provided for every timestep that the pole remains upright. The episode ends when the pole is more than 15 degrees from vertical, or the cart moves more than 2.4 units from the center of the track. A visual summary of the cartpole environment is depicted below:\n",
        "\n",
        "<img width=\"400px\" src=\"https://danielpiedrahita.files.wordpress.com/2017/02/cart-pole.png\"></img>\n",
        "\n",
        "Given this setup for the environment and the objective of the game, we can think about: 1) what observations help define the environment's state; 2) what actions the agent can take. \n",
        "\n",
        "First, let's consider the observation space. In this Cartpole environment our observations are:\n",
        "\n",
        "1. Cart position\n",
        "2. Cart velocity\n",
        "3. Pole angle\n",
        "4. Pole rotation rate\n",
        "\n",
        "We can confirm the size of the space by querying the environment's observation space:\n"
      ]
    },
    {
      "cell_type": "code",
      "metadata": {
        "id": "UVJaEcbdIX82",
        "colab_type": "code",
        "colab": {
          "base_uri": "https://localhost:8080/",
          "height": 35
        },
        "outputId": "a8e7fb7a-7ea0-474e-d87d-f94bbc329509"
      },
      "source": [
        "n_observations = env.observation_space\n",
        "print(\"Environment has observation space =\", n_observations)"
      ],
      "execution_count": 4,
      "outputs": [
        {
          "output_type": "stream",
          "text": [
            "Environment has observation space = Box(4,)\n"
          ],
          "name": "stdout"
        }
      ]
    },
    {
      "cell_type": "markdown",
      "metadata": {
        "id": "ZibGgjrALgPM",
        "colab_type": "text"
      },
      "source": [
        "Second, we consider the action space. At every time step, the agent can move either right or left. Again we can confirm the size of the action space by querying the environment:"
      ]
    },
    {
      "cell_type": "code",
      "metadata": {
        "id": "qc9SIPxBIXrm",
        "colab_type": "code",
        "colab": {
          "base_uri": "https://localhost:8080/",
          "height": 35
        },
        "outputId": "e338550d-dfc2-451d-c4e6-02cac0e2c7f7"
      },
      "source": [
        "n_actions = env.action_space.n\n",
        "print(\"Number of possible actions that the agent can choose from =\", n_actions)"
      ],
      "execution_count": 5,
      "outputs": [
        {
          "output_type": "stream",
          "text": [
            "Number of possible actions that the agent can choose from = 2\n"
          ],
          "name": "stdout"
        }
      ]
    },
    {
      "cell_type": "markdown",
      "metadata": {
        "id": "pPfHME8aRKkb",
        "colab_type": "text"
      },
      "source": [
        "### Cartpole agent\n",
        "\n",
        "Now that we have instantiated the environment and understood the dimensionality of the observation and action spaces, we are ready to define our agent. In deep reinforcement learning, a deep neural network defines the agent. This network will take as input an observation of the environment and output the probability of taking each of the possible actions. Since Cartpole is defined by a low-dimensional observation space, a simple feed-forward neural network should work well for our agent. We will define this using the `Sequential` API.\n"
      ]
    },
    {
      "cell_type": "code",
      "metadata": {
        "id": "W-o_XK4oQ4eu",
        "colab_type": "code",
        "colab": {}
      },
      "source": [
        "### Define the Cartpole agent ###\n",
        "\n",
        "# Defines a feed-forward neural network\n",
        "def create_cartpole_model():\n",
        "  model = tf.keras.models.Sequential([\n",
        "      # First Dense layer\n",
        "      tf.keras.layers.Dense(units=32, activation='relu'),\n",
        "\n",
        "      # TODO: Define the last Dense layer, which will provide the network's output.\n",
        "      # Think about the space the agent needs to act in!\n",
        "      #'''TODO: Dense layer to output action probabilities'''\n",
        "      tf.keras.layers.Dense(n_actions, activation=None)\n",
        "  ])\n",
        "  return model\n",
        "\n",
        "cartpole_model = create_cartpole_model()"
      ],
      "execution_count": 6,
      "outputs": []
    },
    {
      "cell_type": "markdown",
      "metadata": {
        "id": "d5D5NSIYS2IW",
        "colab_type": "text"
      },
      "source": [
        "Now that we have defined the core network architecture, we will define an *action function* that executes a forward pass through the network, given a set of observations, and samples from the output. This sampling from the output probabilities will be used to select the next action for the agent. \n",
        "\n",
        "**Critically, this action function is totally general -- we will use this function for both Cartpole and Pong, and it is applicable to other RL tasks, as well!**"
      ]
    },
    {
      "cell_type": "code",
      "metadata": {
        "id": "E_vVZRr8Q4R_",
        "colab_type": "code",
        "colab": {}
      },
      "source": [
        "### Define the agent's action function ###\n",
        "\n",
        "# Function that takes observations as input, executes a forward pass through model, \n",
        "#   and outputs a sampled action.\n",
        "# Arguments:\n",
        "#   model: the network that defines our agent\n",
        "#   observation: observation which is fed as input to the model\n",
        "# Returns:\n",
        "#   action: choice of agent action\n",
        "def choose_action(model, observation):\n",
        "  # add batch dimension to the observation\n",
        "  observation = np.expand_dims(observation, axis=0)\n",
        "\n",
        "  '''TODO: feed the observations through the model to predict the log probabilities of each possible action.'''\n",
        "  logits = model.predict(observation)\n",
        "  \n",
        "  # pass the log probabilities through a softmax to compute true probabilities\n",
        "  prob_weights = tf.nn.softmax(logits).numpy()\n",
        "  \n",
        "  '''TODO: randomly sample from the prob_weights to pick an action.\n",
        "  Hint: carefully consider the dimensionality of the input probabilities (vector) and the output action (scalar)'''\n",
        "  action = np.random.choice(n_actions, size=1, p=prob_weights.flatten())[0]\n",
        "\n",
        "  return action"
      ],
      "execution_count": 7,
      "outputs": []
    },
    {
      "cell_type": "markdown",
      "metadata": {
        "id": "_tR9uAWcTnkr",
        "colab_type": "text"
      },
      "source": [
        "## 3.2 Define the agent's memory\n",
        "\n",
        "Now that we have instantiated the environment and defined the agent network architecture and action function, we are ready to move on to the next step in our RL workflow:\n",
        "1. **Initialize our environment and our agent**: here we will describe the different observations and actions the agent can make in the environment.\n",
        "2. **Define our agent's memory**: this will enable the agent to remember its past actions, observations, and rewards.\n",
        "3. **Define the learning algorithm**: this will be used to reinforce the agent's good behaviors and discourage bad behaviors.\n",
        "\n",
        "In reinforcement learning, training occurs alongside the agent's acting in the environment; an *episode* refers to a sequence of actions that ends in some terminal state, such as the pole falling down or the cart crashing. The agent will need to remember all of its observations and actions, such that once an episode ends, it can learn to \"reinforce\" the good actions and punish the undesirable actions via training. Our first step is to define a simple memory buffer that contains the agent's observations, actions, and received rewards from a given episode. \n",
        "\n",
        "**Once again, note the modularity of this memory buffer -- it can and will be applied to other RL tasks as well!**"
      ]
    },
    {
      "cell_type": "code",
      "metadata": {
        "id": "8MM6JwXVQ4JG",
        "colab_type": "code",
        "colab": {}
      },
      "source": [
        "### Agent Memory ###\n",
        "\n",
        "class Memory:\n",
        "  def __init__(self): \n",
        "      self.clear()\n",
        "\n",
        "  # Resets/restarts the memory buffer\n",
        "  def clear(self): \n",
        "      self.observations = []\n",
        "      self.actions = []\n",
        "      self.rewards = []\n",
        "\n",
        "  # Add observations, actions, rewards to memory\n",
        "  def add_to_memory(self, new_observation, new_action, new_reward): \n",
        "      self.observations.append(new_observation)\n",
        "      '''TODO: update the list of actions with new action'''\n",
        "      self.actions.append(new_action)\n",
        "      '''TODO: update the list of rewards with new reward'''\n",
        "      self.rewards.append(new_reward)\n",
        "        \n",
        "memory = Memory()"
      ],
      "execution_count": 8,
      "outputs": []
    },
    {
      "cell_type": "markdown",
      "metadata": {
        "id": "D4YhtPaUVj5m",
        "colab_type": "text"
      },
      "source": [
        "## 3.3 Reward function\n",
        "\n",
        "We're almost ready to begin the learning algorithm for our agent! The next step is to compute the rewards of our agent as it acts in the environment. Since we (and the agent) is uncertain about if and when the game or task will end (i.e., when the pole will fall), it is useful to emphasize getting rewards **now** rather than later in the future -- this is the idea of discounting. This is a similar concept to discounting money in the case of interest. Recall from lecture, we use reward discount to give more preference at getting rewards now rather than later in the future. The idea of discounting rewards is similar to discounting money in the case of interest.\n",
        "\n",
        "To compute the expected cumulative reward, known as the **return**, at a given timestep in a learning episode, we sum the discounted rewards expected at that time step $t$, within a learning episode, and projecting into the future. We define the return (cumulative reward) at a time step $t$, $R_{t}$ as:\n",
        "\n",
        ">$R_{t}=\\sum_{k=0}^\\infty\\gamma^kr_{t+k}$\n",
        "\n",
        "where  $0 < \\gamma < 1$ is the discount factor and $r_{t}$ is the reward at time step $t$, and the index $k$ increments projection into the future within a single learning episode. Intuitively, you can think of this function as depreciating any rewards received at later time steps, which will force the agent prioritize getting rewards now. Since we can't extend episodes to infinity, in practice the computation will be limited to the number of timesteps in an episode -- after that the reward is assumed to be zero.\n",
        "\n",
        "Take note of the form of this sum -- we'll have to be clever about how we implement this function. Specifically, we'll need to initialize an array of zeros, with length of the number of time steps, and fill it with the real discounted reward values as we loop through the rewards from the episode, which will have been saved in the agents memory. What we ultimately care about is which actions are better relative to other actions taken in that episode -- so, we'll normalize our computed rewards, using the mean and standard deviation of the rewards across the learning episode.\n"
      ]
    },
    {
      "cell_type": "code",
      "metadata": {
        "id": "5_Q2OFYtQ32X",
        "colab_type": "code",
        "colab": {}
      },
      "source": [
        "### Reward function ###\n",
        "\n",
        "# Helper function that normalizes an np.array x\n",
        "def normalize(x):\n",
        "  x -= np.mean(x)\n",
        "  x /= np.std(x)\n",
        "  return x.astype(np.float32)\n",
        "\n",
        "# Compute normalized, discounted, cumulative rewards (i.e., return)\n",
        "# Arguments:\n",
        "#   rewards: reward at timesteps in episode\n",
        "#   gamma: discounting factor\n",
        "# Returns:\n",
        "#   normalized discounted reward\n",
        "def discount_rewards(rewards, gamma=0.95): \n",
        "  discounted_rewards = np.zeros_like(rewards)\n",
        "  R = 0\n",
        "  for t in reversed(range(0, len(rewards))):\n",
        "      # update the total discounted reward\n",
        "      R = R * gamma + rewards[t]\n",
        "      discounted_rewards[t] = R\n",
        "      \n",
        "  return normalize(discounted_rewards)"
      ],
      "execution_count": 9,
      "outputs": []
    },
    {
      "cell_type": "markdown",
      "metadata": {
        "id": "QzbY-mjGYcmt",
        "colab_type": "text"
      },
      "source": [
        "## 3.4 Learning algorithm\n",
        "\n",
        "Now we can start to define the learing algorithm which will be used to reinforce good behaviors of the agent and discourage bad behaviours. In this lab, we will focus on *policy gradient* methods which aim to **maximize** the likelihood of actions that result in large rewards. Equivalently, this means that we want to **minimize** the negative likelihood of these same actions. We achieve this by simply **scaling** the probabilities by their associated rewards -- effectively amplifying the likelihood of actions that result in large rewards.\n",
        "\n",
        "Since the log function is monotonically increasing, this means that minimizing **negative likelihood** is equivalent to minimizing **negative log-likelihood**.  Recall that we can easily compute the negative log-likelihood of a discrete action by evaluting its [softmax cross entropy](https://www.tensorflow.org/api_docs/python/tf/nn/sparse_softmax_cross_entropy_with_logits). Like in supervised learning, we can use stochastic gradient descent methods to achieve the desired minimization. \n",
        "\n",
        "Let's begin by defining the loss function."
      ]
    },
    {
      "cell_type": "code",
      "metadata": {
        "id": "fsgZ3IDCY_Zn",
        "colab_type": "code",
        "colab": {}
      },
      "source": [
        "### Loss function ###\n",
        "\n",
        "# Arguments:\n",
        "#   logits: network's predictions for actions to take\n",
        "#   actions: the actions the agent took in an episode\n",
        "#   rewards: the rewards the agent received in an episode\n",
        "# Returns:\n",
        "#   loss\n",
        "def compute_loss(logits, actions, rewards): \n",
        "  '''TODO: complete the function call to compute the negative log probabilities'''\n",
        "  neg_logprob = tf.nn.sparse_softmax_cross_entropy_with_logits(logits=logits, labels=actions)\n",
        "  \n",
        "  '''TODO: scale the negative log probability by the rewards'''\n",
        "  loss = tf.reduce_mean(neg_logprob * rewards)\n",
        "  return loss"
      ],
      "execution_count": 10,
      "outputs": []
    },
    {
      "cell_type": "markdown",
      "metadata": {
        "id": "Rr5vQ9fqbPpp",
        "colab_type": "text"
      },
      "source": [
        "Now let's use the loss function to define a training step of our learning algorithm:"
      ]
    },
    {
      "cell_type": "code",
      "metadata": {
        "id": "_50ada7nbZ7L",
        "colab_type": "code",
        "colab": {}
      },
      "source": [
        "### Training step (forward and backpropagation) ###\n",
        "\n",
        "def train_step(model, optimizer, observations, actions, discounted_rewards):\n",
        "  with tf.GradientTape() as tape:\n",
        "      # Forward propagate through the agent network\n",
        "      logits = model(observations)\n",
        "\n",
        "      '''TODO: call the compute_loss function to compute the loss'''\n",
        "      loss = compute_loss(logits, actions, discounted_rewards)\n",
        "\n",
        "  '''TODO: run backpropagation to minimize the loss using the tape.gradient method.\n",
        "      Use `model.trainable_variables`'''\n",
        "  grads = tape.gradient(loss, model.trainable_variables)\n",
        "  optimizer.apply_gradients(zip(grads, model.trainable_variables))\n"
      ],
      "execution_count": 11,
      "outputs": []
    },
    {
      "cell_type": "markdown",
      "metadata": {
        "id": "XsjKXh6BcgjR",
        "colab_type": "text"
      },
      "source": [
        "## 3.5 Run cartpole!\n",
        "\n",
        "Having had no prior knowledge of the environment, the agent will begin to learn how to balance the pole on the cart based only on the feedback received from the environment! Having defined how our agent can move, how it takes in new observations, and how it updates its state, we'll see how it gradually learns a policy of actions to optimize balancing the pole as long as possible. To do this, we'll track how the rewards evolve as a function of training -- how should the rewards change as training progresses?"
      ]
    },
    {
      "cell_type": "code",
      "metadata": {
        "id": "XmOzc2rrcn8Q",
        "colab_type": "code",
        "colab": {
          "base_uri": "https://localhost:8080/",
          "height": 541
        },
        "outputId": "6d80d96e-0860-4641-ee9c-9a0be3b704d0"
      },
      "source": [
        "### Cartpole training! ###\n",
        "\n",
        "# Learning rate and optimizer\n",
        "learning_rate = 1e-3\n",
        "optimizer = tf.keras.optimizers.Adam(learning_rate)\n",
        "\n",
        "# instantiate cartpole agent\n",
        "cartpole_model = create_cartpole_model()\n",
        "\n",
        "# to track our progress\n",
        "smoothed_reward = mdl.util.LossHistory(smoothing_factor=0.9)\n",
        "plotter = mdl.util.PeriodicPlotter(sec=2, xlabel='Iterations', ylabel='Rewards')\n",
        "\n",
        "if hasattr(tqdm, '_instances'): tqdm._instances.clear() # clear if it exists\n",
        "for i_episode in range(500):\n",
        "\n",
        "  plotter.plot(smoothed_reward.get())\n",
        "\n",
        "  # Restart the environment\n",
        "  observation = env.reset()\n",
        "  memory.clear()\n",
        "\n",
        "  while True:\n",
        "      # using our observation, choose an action and take it in the environment\n",
        "      action = choose_action(cartpole_model, observation)\n",
        "      next_observation, reward, done, info = env.step(action)\n",
        "      # add to memory\n",
        "      memory.add_to_memory(observation, action, reward)\n",
        "      \n",
        "      # is the episode over? did you crash or do so well that you're done?\n",
        "      if done:\n",
        "          # determine total reward and keep a record of this\n",
        "          total_reward = sum(memory.rewards)\n",
        "          smoothed_reward.append(total_reward)\n",
        "          \n",
        "          # initiate training - remember we don't know anything about how the \n",
        "          #   agent is doing until it has crashed!\n",
        "          train_step(cartpole_model, optimizer, \n",
        "                     observations=np.vstack(memory.observations),\n",
        "                     actions=np.array(memory.actions),\n",
        "                     discounted_rewards = discount_rewards(memory.rewards))\n",
        "          \n",
        "          # reset the memory\n",
        "          memory.clear()\n",
        "          break\n",
        "      # update our observatons\n",
        "      observation = next_observation"
      ],
      "execution_count": 12,
      "outputs": [
        {
          "output_type": "display_data",
          "data": {
            "image/png": "[encoded data removed]",
            "text/plain": [
              "<Figure size 432x288 with 1 Axes>"
            ]
          },
          "metadata": {
            "tags": []
          }
        },
        {
          "output_type": "display_data",
          "data": {
            "image/png": "[encoded data removed]",
            "text/plain": [
              "<Figure size 432x288 with 1 Axes>"
            ]
          },
          "metadata": {
            "tags": [],
            "needs_background": "light"
          }
        }
      ]
    },
    {
      "cell_type": "markdown",
      "metadata": {
        "id": "mkcUtGF1VE-K",
        "colab_type": "text"
      },
      "source": [
        "To get a sense of how our agent did, we can save a video of the trained model working on balancing the pole. Realize that this is a brand new environment that the agent has not seen before!\n",
        "\n",
        "Let's display the saved video to watch how our agent did!\n"
      ]
    },
    {
      "cell_type": "code",
      "metadata": {
        "id": "PAYBkv6Zbk0J",
        "colab_type": "code",
        "colab": {
          "base_uri": "https://localhost:8080/",
          "height": 210
        },
        "outputId": "1949e21a-5729-4a12-dece-20f94425459d"
      },
      "source": [
        "saved_cartpole = mdl.lab3.save_video_of_model(cartpole_model, \"CartPole-v0\")\n",
        "mdl.lab3.play_video(saved_cartpole)"
      ],
      "execution_count": 13,
      "outputs": [
        {
          "output_type": "stream",
          "text": [
            "Successfully saved 120 frames into CartPole-v0.mp4!\n"
          ],
          "name": "stdout"
        },
        {
          "output_type": "execute_result",
          "data": {
            "text/html": [
              "\n",
              "        <video controls>\n",
              "            <source src=\"data:video/mp4;base64,AAAAIGZ0eXBpc29tAAACAGlzb21pc28yYXZjMW1wNDEAAAAIZnJlZQAAKNJtZGF0AAACrQYF//+p3EXpvebZSLeWLNgg2SPu73gyNjQgLSBjb3JlIDE1MiByMjg1NCBlOWE1OTAzIC0gSC4yNjQvTVBFRy00IEFWQyBjb2RlYyAtIENvcHlsZWZ0IDIwMDMtMjAxNyAtIGh0dHA6Ly93d3cudmlkZW9sYW4ub3JnL3gyNjQuaHRtbCAtIG9wdGlvbnM6IGNhYmFjPTEgcmVmPTMgZGVibG9jaz0xOjA6MCBhbmFseXNlPTB4MToweDExMSBtZT1oZXggc3VibWU9NyBwc3k9MSBwc3lfcmQ9MS4wMDowLjAwIG1peGVkX3JlZj0xIG1lX3JhbmdlPTE2IGNocm9tYV9tZT0xIHRyZWxsaXM9MSA4eDhkY3Q9MCBjcW09MCBkZWFkem9uZT0yMSwxMSBmYXN0X3Bza2lwPTEgY2hyb21hX3FwX29mZnNldD00IHRocmVhZHM9MyBsb29rYWhlYWRfdGhyZWFkcz0xIHNsaWNlZF90aHJlYWRzPTAgbnI9MCBkZWNpbWF0ZT0xIGludGVybGFjZWQ9MCBibHVyYXlfY29tcGF0PTAgY29uc3RyYWluZWRfaW50cmE9MCBiZnJhbWVzPTMgYl9weXJhbWlkPTIgYl9hZGFwdD0xIGJfYmlhcz0wIGRpcmVjdD0xIHdlaWdodGI9MSBvcGVuX2dvcD0wIHdlaWdodHA9MiBrZXlpbnQ9MjUwIGtleWludF9taW49MjUgc2NlbmVjdXQ9NDAgaW50cmFfcmVmcmVzaD0wIHJjX2xvb2thaGVhZD00MCByYz1jcmYgbWJ0cmVlPTEgY3JmPTIzLjAgcWNvbXA9MC42MCBxcG1pbj0wIHFwbWF4PTY5IHFwc3RlcD00IGlwX3JhdGlvPTEuNDAgYXE9MToxLjAwAIAAAAJDZYiEADv//vb8/AptFl7/LZ/+iL/lb+9P2a61uFE7M7QacwPQAAADAAADAAADAAAjQ+qT+e/gphQJpan+7xpsKAAAAwAAAwAApWgAAQZcHCmGj4LeQfpCY0NmiVdj/wjofAAFAuN6798j9Xi68iE4+gxLzdXV5jo4k4xLz4qN3XkMo6ej2ccsRiLoVMLeqIx8uDNq/rnPnnVHaTqzMduaJE4iKu3rmjtepXNW5Qw7GDdGXDOZWvGuVrFbEFOWIMCRWUY7KGubzXSu9JLo0X4GdgaKrw7yQSMLk3XYeUIWAy7aFkVvpEN4U2quAl62I7J6oyxoUdJJ9/rxLA580E2U4Iim+y0xKVzsfNbMa3QOxyPk+KArh6tmjs7YfngoMR5ixBPbKnG1wYThk2loZ9wlq3FHThnX1zcGgfIYZt1p/C2nFY2rUp+GBh41K+ghsdHAExq4U1VTnPOQwLuO8DOH1JGMGx99XELlVPw+VEFeqMshH0fbVzc0100+HyA7uckS30yKJW+eOh84QcBZMyVN/qx3ddx7qAzG0R2OKEntjez5ARNJ9o0XEZTrQ4moeBoFKgq9OQhVTJbTLhFL0PpWBoaWKNVdaQiN5uCjmirbWVvjovrSIL68F7ljf2N9oE/FNEWq9NuxScaJG5khO8C26gRoUipf4aX7glm0QXYczvKA0PEOM67pao8DtFj0QACrG1bT2A7pn2xLqhZbjSlyL9efo4n9wMTkmJP8lwl323Gu204x7EAAigAAAwAAAwAAAwGRAAAAxEGaJGxDv/6plgAACQLmwAoMW8Yu2hYT+P+f2TR2IfnM3BQR2TC7Rr1lTS2yUQf1dQ0P3GN3c1D3lA1NUkhZjMthnA9tn2IdB4RJZ3d/D30t77LIccOII7cP1Ru/eztVkCAQm6rKv+S66ORAbl5g92WgFnplrP08XfUdj++myeuwpwVFuRw+neVArnfLlRn8KeRc56Oylogvz+69oubYqasRoP60kJ4ZUV/LwBEpdRuAUqByNUsCXBinWyf8nLDK2526JsAAAAAyQZ5CeIX/AAAKyybwlJVV8aj2lD6b5F5vkyrYsMuABCLci9V/7/L4iWqjIPtj2ket2zEAAAAzAZ5hdEK/AAAOfxI0F78fKHZrGksJlYH2NWa7MAkxoppb+waUAGcNvsulv/80tCsBOtO2AAAAOwGeY2pCvwAABYurhpx8o/OruXrdOn0by9aVoN0nyJkAITLhkBJ4qonAAZY9T99eYYCrB/lRjrpgCoSRAAAAz0GaaEmoQWiZTAh3//6plgAACQG1iAL8hEritF52D38F5swv0qkfxWndovPOz7m9TyPAeDkiHL0QMrMcJf18VTQK1yqGanaCWRxrqrbEPAqMYGPBjiT3UxvMmK/cRHtityyWKXhnoGDdTHHny80Pwn8gV6X3cHzsNtqmPrvdnIE4jqmAuOuYkATdIePYlqdeLwPktQ7ixy36dzkOSjfQmONWBjaQScRN3+y2W3pkdURIoetNb+QHKwqnppvNPDrmD9EKasIWIv/JzsTiOdUImwAAAD5BnoZFESwv/wAACsz/vsh5iyuXwD29c5N9E3umELFFgR1MwACdaBoVqzFb/PhzYNsc45/2JJVDgeyD/sfswQAAACEBnqV0Qr8AAAWLoSKFQT9MDmmzzAcCKJbRaqKBM2MgyoMAAAA4AZ6nakK/AAAOgzokzAo3rGWl9tyCpfBeDahSm1n1QAbP3laCgSX//h6kik+NgetuD7wKgn1oddsAAAB/QZqrSahBbJlMCHf//qmWAAAIz8jqIfmvnIaj54rxFLXeWZYc6k/K6onUHBuZm/T9S5QRp1aZRmxajUiRj3/0GgvRmo1SeN074I76r/7uQ9nHO2WRLxO/E2xgMuwe/gjLU2QwuuWloh56CH5tim4T5DHUzo/RuHR7hbiqDFsY+AAAAEhBnslFFSwr/wAABYo1uYSuKVuCeNpUuP/0mJzcDIsNdbo/JMgojedS18ACD0C5+757KjT7lvksLF4cHy5ZGu89Ek/zR1x4Ft0AAAAiAZ7qakK/AAAFiwgtSfpPB5GnuHAb4CDdgl+mZ6czeDVjkgAAAH9Bmu9JqEFsmUwId//+qZYAAAkBXFs3c34mzSAAO0nM5B8H+ejSHFsotw27iBto3KJvhg0ax/VdbPFUJoJvwvlre/Fu5nsxvfLaw9lo79w3yclwBcH4OGKkCiTrtomUvPEl+zS1QOfGDZPK9iWnY2vuaMnGgVEsSOFfDtUy3flAAAAAM0GfDUUVLC//AAAKy0sQAmkrR2rXI/mdgY0SW9p1/9fyv1Tk6ng7o8CJK1ckdCsj5gKUEQAAAC8Bnyx0Qr8AAA6EX9Wb3FUib0Od0oaAYjiN18AAhutjmVP642Jgt1m24SXqYGctoQAAAEMBny5qQr8AAA6FWl2tbqy+/N5lxzWB4JXuex231j7eJ8iW/qABB9ahx6ROwd//xfUEq/uFC71olfZXzwl4AWgnek4tAAAAe0GbM0moQWyZTAh3//6plgAACQLx6kQBHUqa45IRG9enUjNbUxk9GI4h6Wf2TKCcjcVNP9fT/2w2JswIiRpex3DfpL6v7CC3TgZ5B98fbdT1CGB/kj0Fwiffb8OHDGgMX5ud9TmVELS5lbQT3/2KN4ws3L91ll+I8DtF4AAAAFFBn1FFFSwv/wAACs2fTWje59UP9yWMfaQdGGYu2ecRN4GPbSUE5SXtspJh0fsgA5w9aOtPuB5cv/ailMri+jX1KGCoELTHfKPcpOITHQJZyYAAAAA/AZ9wdEK/AAAFiTP9QKwrLb5MnK3A2fpivdSu0OQAnj037B1G5WoaG7YSvHWaw8OW9ZLjUk4kmKSZ/pTz3L2ZAAAAJgGfcmpCvwAABYrGrC+cLR8VU0qzgU0egvatETVW95YAPOlX/9JUAAAAfEGbd0moQWyZTAh3//6plgAACQbz9twARldAL4/bn5GVyxJ5MDzH/5+Nvnrnp1UyWqjB/0E/XrYp/2v2ka/J5FZfzObClWSHdrtk/f1OVWisTFiaZXM4aF/dXKnW5kikCw3wLZDKd3dYM+o+Jrm7mD32EI/Zt4CO9rAl4hoAAAAtQZ+VRRUsL/8AAArFMj7MPMMUSuLOUelIYbNKJXoNC5e4tp/rWGR+4CbeaIbRAAAAPwGftHRCvwAABXbBTiugATKL7HzGBq1OKnq1mjJ24C371lVbeFrhMATFGICmZDk1grBGb3glDTJvERNJOgwfMAAAADQBn7ZqQr8AAA6DOyrSM1WzKL840WFvPtM0OajIANVFhu+EHsPgM/zs/n8+8X221VUBJb5HAAAAqkGbu0moQWyZTAh3//6plgAACQShHFXBFQBG8iKlOdkQU+wEXhMnXM1mjwe2TvruK0CiVYl/LIn48BcC5lakjx2KIdpEX/853zmy8BXeWnA9z/0Pb+Gkyp7huGp71t8zJpJPNCaLfUoRk1eVGilj0b47mW9CT5KeovcRqv8qLLcc1zZdCARp/TtAe8oePN6BpH+1WW0UPuO6rl8OL+rL2fz8wb/2k7MXxL+XAAAAMUGf2UUVLC//AAAKzL01Z5HsZQOF9KWEPamfuwl6xGhsk076AEKrWZXfdkMNUGtdSMAAAAAuAZ/4dEK/AAAOfz3gAF08yagDZ3kk7sxebjrHcHR84MHFyuUt5c9deyoXgeBXAwAAACYBn/pqQr8AAA6DOtTXI9QBxDmaZCtw+ZiABEMWRTkfngmpHTrXgAAAAH5Bm/9JqEFsmUwId//+qZYAAAlPyOghnZRMBzmZPmKyGJW5ynbofHKJT97sHQ9MOIvZBWVSuChCazsasXzydGU7YBKXNwRL+hef3vTtVPT6IKjWizcAs9NoM24UuzEo8y2fXp7KI1mTDs7SyHmKXOOUHP7OI7//aHvfW30a8nUAAAAqQZ4dRRUsL/8AAArMvTiuHBhoeOBpy34vjNYUW5mrEHz5i3sRcFLcqdeBAAAAKAGePHRCvwAADn8SWaRpzvjN7+e9iyqd41wA5SuSXgxvxF+Wzb038iwAAAA2AZ4+akK/AAAOgD+V8ZNEprKGYAEZGlDZjqBaf+DOlMZzmfNrPXFHmCUobk5nFu4BO/W1TFHBAAAAmkGaI0moQWyZTAh3//6plgAACUKJiR8Z5r2CkZL5WL2pwo2PRACavTkz6PR+CL/uuXKeulm5bytyD++UBzaSTxl9cyJrLwdprFjOyGNYngmijwhnNseC7HZdlzQzmnyyV212+Jld1bkMgSGfU1TyUidVb5fXRXRCK2cacprDrCZV//jyxz5WJ0EMoBxsGQB1M/IHzu7B4D3cEGkAAAA9QZ5BRRUsL/8AAAsTFW4Z5JdhM5frJ9fqAD8TSLIuFSX+M3Mp1L+HQFXF+/KmkI2wQO8vhjLpryZtd+RWpAAAAC4BnmB0Qr8AAA7XCLpuTHqjFmGJnAAun8yO7na74Jaz4rIfV9Ew+fdnrit8ujvdAAAASgGeYmpCvwAADoM7yuO27RAAC4u668Y0+7/8vFRufRy/e+uKpNrTWt9E3UWxCPH579lfrxfW/+BCYYSxa3aTTxHAPVpVwVSGuH2pAAAAXkGaZ0moQWyZTAh3//6plgAACUKDnKfhKGACiTGKu3ml/jZC3BAQwjmq7ozwfCqa5u0sOKm09fGb7wgC3I2eeHoLSvZisASPAIXu1VM/v/vcAkUrHcOD9iVU7H2jZA0AAABGQZ6FRRUsL/8AAAsSmHGZi6jF1WjXQAF1AwjsDHbPNKmminJYWGVIqxnZ8/SHuupbpKqff6T2CyoNOnHoxzGHMD4I0TibgQAAACYBnqR0Qr8AAA7cG1FHoJt0d4n/ZBfO+Fkvt0YyWCWcbdMCgdlFwQAAACIBnqZqQr8AAA7bNXCgqxI6hmDfYDmpUs3c6Arb+5mk4m65AAAAeUGaq0moQWyZTAh3//6plgAACUFcNhONgFWoF3cPPgzu00HWTmAC18W7l//sicF2iPmuJrm8DM79+D8qv3J0oAZQNPcg62CnMlnE+MfCwF/xeLzy7LWuREC8AlPRMfejR7KnMZZ5/bWw0G4+WBPPPx6/6MOGFcF4J8AAAAA8QZ7JRRUsL/8AAAsU+vSjljvGAgSi6rPre8feAAWrwgPAqH+9x2loz/KxXEfPQrStCMrzzBoPwqq6Pr3uAAAAOgGe6HRCvwAAAwIUW4ACVMvT+x9v7WQxCCR0w37zFL9V9QuS+3fo6r8Kqz5dY7wKmmdBQhWnSpvEZuEAAAA6AZ7qakK/AAAO2zPjRcE0w2bJIGf/nR5SCYkvX8BVABdIxcv110mDdORM7a+cvKfMyiNWEt3LhQDggAAAAFZBmu9JqEFsmUwId//+qZYAAAlBXIygGsQxK4rXX2gxBukmBpAxsGduZ+E++IcNMCWcinrZN4fghPlcoJh+K/qJGahrbx/1tgViIWb63omNHdQthJCnXAAAACRBnw1FFSwv/wAACxT69KOWdgv8ipr7YfeS8pLEYclQAAPiibkAAAAuAZ8sdEK/AAADAhvmVDchgATO8o/M+q//1GPJUTpNNVdYaHtgu0OvKn2NFW/egQAAAB4Bny5qQr8AAA7bM+NFxOzEjcN0aIKdavky72FLb0EAAABMQZszSahBbJlMCHf//qmWAAAJQomPqfTyDt2vpIu3kzvcqW90Gk0HR+BTQ0AOAB0sn4oxwVCjy30HQDYfx/GcnEcZo34KVA/orRLZgAAAACFBn1FFFSwv/wAACxMnXH7e8muabzLMx4RSHYANFYv468AAAABBAZ9wdEK/AAAO1xLxvhjMOQAAmdVdeKv93/+gLIl33gwGZfyrGgHXAjHIEBm+EX4J7OrZz8F6M7I7yohiumDWtB8AAAA6AZ9yakK/AAAFrsPxSVdoAPf5MFc5v9uVM49KEBxebSThHgkqwIOCLuuKxSIlTGqe3mmNgUfpw4FbrwAAADtBm3dJqEFsmUwId//+qZYAAAlBXDKy+wH4KsidT0AFou/s9vH2uWF2mlG4bBcnmjbmQYnoGKN7j+gk4AAAADhBn5VFFSwv/wAACxWfR1JbSSqJkvUtTrHrRAC29wHxrSD1OM2yXPkFYYbhUFUnW0a9C4tYTYom4QAAAB0Bn7R0Qr8AAA7cU/pOfVB29rMwpaXniCTJYoJY/wAAABoBn7ZqQr8AAA7YPeN0j4Qi8tpeC5UNJFHvTQAAAFVBm7tJqEFsmUwId//+qZYAAAlCjDkACfb5LkNJF5h1nef65X7n8+SWZrE9ymKBKA3DCK4TkOnjnZH14/gRXQko3h0Ewk9hj99SAlfpv2h9MVt9LL6ZAAAAT0Gf2UUVLC//AAALFPr0o8ZCInAAg/WHgYEF6V53oxqkx/CNqwlqqzNMefFugLC3C8XxTN8XeUDBj3oLG36oKp4EFeJZvr/HZV2DPk7u14AAAAAvAZ/4dEK/AAADAhvmVDchgATHGR7KGL/qL7tC2Kocb7x2HYkdY+rsyuzyzOuMh18AAAArAZ/6akK/AAAO2zPjZwoACdZFMNBZf7qNG/IQr9nMYfB8RemnZcGMVFOa9wAAACxBm/9JqEFsmUwId//+qZYAAAlCiY+uwUIG7AlxzlRvVwbSw/V03iCCLZg80QAAAC5Bnh1FFSwv/wAAAwCSz/ULjXBIE6AE0yo1659Nfzc01mlstLptNM3bFRQeyuXtAAAAGwGePHRCvwAADtxfYVGpnC4mT+dmHpC7fCl6QAAAABgBnj5qQr8AAA7YPbnEgFZ9Ufv4H3y1zcAAAABqQZojSahBbJlMCHf//qmWAAADAVQ7QlkAJJoWwuRwTbH//Of/GlQhuIzP/dgvLNwNvNulny2lH9M8iHedapc6dWpzgM4Mktjv7ulRR/Xka/DipIPi8aDNjvVDFd2khDraaR/fPCXb6IVJcQAAAD9BnkFFFSwv/wAAAwGSVNCSw7JAg2a7IftGuv3e8uAATiX9F9Prm5/2790ttN0skVSV0HcaEof1BO/kCCwwOvAAAAAoAZ5gdEK/AAADAM4LlAiota1xZ70E7r+IAQX7cex/Ns+1Tmg6N3Kx4QAAAB0BnmJqQr8AAAMCG2oxkU4IfCxRpzGpv6aaYiutWAAAAHRBmmdJqEFsmUwId//+qZYAAAMBUvjrdgfFNJYx+qeTW3vIAXIGB46U7YZWRQyrdlOHK/9fsNHdb++zrRgrs1AxdZUcOJ+r1crOq5UsdsvsrPlJrfK8MvLTy1HPPppvIPZTnz9LiQHsM9VyqpKQwNbI5pglnQAAAClBnoVFFSwv/wAAAwGSMM/bNyaTxXMEnN6ETRNZdwAF1+AX6W2LN1/emQAAABoBnqR0Qr8AAAMCGc9r9rqVsSKVkBLb6RXH0wAAADkBnqZqQr8AAAMCG7H5HwXNAUOz1XkWwOrYe2dAAGxgE9dNavzQaSOkqYLFrPHxN8nqiM3m/GQznBEAAABIQZqrSahBbJlMCHf//qmWAAADAVMPp5bE/GBQ/QwxM1z3itavfAtufJadXxgAIzylRfx//V9LQgPpZ/b80T//cR5y5m+oqE+AAAAAM0GeyUUVLC//AAADAZJmzaaw0Wd6gBp04gi3FeDxACD8UhlANfq7I6L7ISdIInP85t9qQAAAACMBnuh0Qr8AAAMCGxP0+Qxek8IXmqbeFTJPbRE6lXRx0nBa8QAAACUBnupqQr8AAA7igAAcbzgGMJl5knhTkCY9ga11+VUU1UwIiJ2AAAAAjEGa70moQWyZTAh3//6plgAACUFgDKAOZcsUxRymY5pV8Eh9UH5R9PjWK8dGOicyz2oc6X6NkBs+Eovbf5GxZsMuKpuzVTPTKhdGhZDRm/Y3/aX0BRvh8m6yvYMGtqeH7PrN2gGRaRuCML76Kth4KaqmcPsym6IUwS/P3vk/j5yruZnsfvox1szdovCfAAAAJkGfDUUVLC//AAALFPr1NxetmlTqNPMOeX6bFFrINSS7IwkLW3ZVAAAAOwGfLHRCvwAADuKAABxvOAYwmXmSdxPTaYGS49+Rf1/vQcZtO9ywdOQLZobCDUSWU9ctLqbsVY5YAGzBAAAARAGfLmpCvwAADtXSiAG5NS5ZZk3+r55+8vazo+k82xegJiH7Jxu6GoX2WVTdPZWYmVTxbbh9z2TfTYJenRAoqIJkR0vBAAAAVEGbM0moQWyZTAhv//6nhAAAElTYEQADoUBpP8VwAdVqxVWNHX/nZAGk8rLGiPiKy19Qp/GeI3P6Suv9d4P2TeSX4hq+kzDm0YUTJaiyKEWQwnON6AAAADVBn1FFFSwv/wAABBbatCWh0iYaDohr/+mwahDC1s+/3dpkAAEN4pDrNJVzw7L/P56jYkfPTQAAACMBn3B0Qr8AAA7cXju7IAqj4x0w02qefoPo4dg0wK5hBq1wQQAAACwBn3JqQr8AAA7dgHsbKJgoYBnpDHmU2oI08nCfbCf5gAEIGVaULlcf/ufDwAAAAFhBm3ZJqEFsmUwIb//+p4QAABJVoGZfkqlSk0Eiwt+7F5Ytqyn+f1ZEZgyKIFOaEAQ6ZaeWWAWLDyPPfjuf93BSiOJHvXY8wD7SmiL1RxE+Jr4ccZyNOdqAAAAAQkGflEUVLCv/AAAO2Ct0jpgnjj9J/sDFOQhcczoJk+G44ABxvODl9KpM6oOvPOedzJQagLD0cy6XFuOYST+bDpDdiwAAAFABn7VqQr8AAAWprZTRxV7Eu4Mc89t78CU9JgfN3L+U24WecxVF8eFNhXvqtsnOG9yuiAD/4nWU6ZuTIZqKQ/khEd2xjo/InfO4i8RDBFNxqQAAAGhBm7dJqEFsmUwIb//+p4QAABJRLIgEyxIX85ZsjUHph/fFnMjdLzI17AtkF/pLrzZd8pAZGKa5oNjRkRS30w3wSkAX+hpCxhIg5mVwJYZPjKnhHIf/L7QxVIbLeD7xJ48Y49wB2N5LOQAAAEVBm9pJ4QpSZTAhv/6nhAAAElTOPVv0lpBnpHvjt+G/4s1jUmvlTKWmy6VUlFbU/0CxoA6U5WVPveW1eLFnoXght9SmBekAAABVQZ/4RTRMK/8AAA7YbwADiz1U7Wffz9Q9z6S2Ah1zjLg2OAcwKgcGwCSST0SgbqggjX44xtnH7GixXdHTkdgEKvSPJvnbeQRLyp8i+rKOyh40UV+2vAAAADIBnhlqQr8AAA7YPPf5qQmGc7Uy7GVG1ecN7V12eOpWh5DszG0RDAAILUTs0SFD/+sb/QAAAENBmhtJqEFomUwId//+qZYAAAlBX7+PBU+rAYztmYWiOSYc+7W4kzfIyCajFyEa0H8IAPzmJXHJv6Zwvvgv/7hpCqbgAAAAkkGaPknhClJlMCHf/qmWAAAJQV/OukwANz/vA4vCc7r+p5VsijShH2M4HxowprTybeVsQhbJMJME+dsIkaa2j4NG+S3aVA01Urp8+KugtWwNlhDGc7lgOzF5ETAmSvqCa9BTcrM8N9E+iLmLwjaFFTMETCoCeuBXW4D/piXjcPsQLFAW9zGUxVixv9pfS233SGkvAAAAQUGeXEU0TCv/AAAO2zPi76UlHEu8Xat9PxL57gMapSV/8zeIXzxVTGvgAExxkcQ7R/yaO/E9GyqwjjxRvEHRIba9AAAAQAGefWpCvwAADtqJEAAjENxrzYPUoU4NBxpltB4C7dL1Gwl+Uwmw4ZExkOOBt16fdQcxR0zGlBvyh02IZqXZ868AAABuQZpiSahBaJlMCHf//qmWAAAJT8jo5eza2u4+XrOtjrwYqYKNr+RUF1EEOgCYHkKJANnZO/TpnyUgUKDTZ2uEhFd8NK4mBwIsOBKNp9n/3A4Gum3v+W/K4LFTgaOFH6Mqs4RWqxHfyc0P1t2lPJ0AAABGQZ6ARREsL/8AAAsSkpeCra4gImqzxAAgD5ihs/P5neX58Sa9MFdYABD7nMqHzV6P+1vwWB92GI3cPK0KXbNI3xRBk0+9wQAAADIBnr90Qr8AAA7cU/lMkQ0Dl9/aA4qn+2OhyOmpaQ5rn0s83QigvZ/UAC31PMoJH7/3+AAAADEBnqFqQr8AAA7b8kUi7vdPNHweBdGQVKFOdqiHia7Z6gA2fvZDSR/wLwXVt0Xmf1rxAAAAd0GapkmoQWyZTAh3//6plgAACQE3LGIAiVCJW5ymkwYt//HV7RJP9VI8ebP2wapMFMOFT8ejzrxDUYGIAM5Xcldtegwb6LMrnQcFQv7D4lfJKEYZENLqSy+YGJHbOff9DRCc2YtMa8vCYkJRNXiXr87sNHHq3twYAAAAR0GexEUVLC//AAAKynOD2q4DW1JM/DH+k68N3BqTACsmAZmDRe0mWvlF8GpsACZylDRdGyfcPf/2TyGJFFS0oJSmOxoYzW1JAAAAPQGe43RCvwAADoOc0NqfXMkGJxe7MkNZcqKq2G7oxW2cDruoANVFOBG33++f5NOn3VRjsmG6mQ2VXoptxN0AAABCAZ7lakK/AAAOhVNLG41UwOtmtqUGWlANYNJskUxIJ9Vmv5vnLSJiiUD59KADVVm5Z5ysCm4HD47YknFuHmegf/WvAAAAlUGa6kmoQWyZTAhv//6nhAAAEdS5PRrmA+yVdbAqT/kiSMzlftWC1bv2rXHO5ax9umcqU22Z+aQihABuarFnOHgCmXypVzym1L4XqLLJv//Hv3OXn5fs8GdH8iYqvdDSas68dlWV9SQ4fcOQtPuD+LmC+NyOdvWt+WD6PwcO1hI+gMre0v26lrasiQg2/O7KKx6xlwWBAAAAb0GfCEUVLC//AAALFkj5vMfOhbRnYf/oP41VxvuyrA9i9eSJYh6re8hm1ukiBA2VmeftgCx6lNWAATPJgPAqH/ZvCpqvLh5KXkjKjs0ZzKvw1utTCMkco5NKIWU3IBJ26pntPKBZKjx4UfDWwfzrwAAAAEQBnyd0Qr8AAA5+nbMtsP0NOrA4LsacITu5RWdgpuljo111PKleIZ+TwObAAHXpCAEck+ffSN5JnDTMTT8SpkgNR2796AAAAE0BnylqQr8AAA6C1khADgqewA4z9nfxxd1cYKjdGaa6Qwgt0oHZ/AAHAPCfP+54fwAMSjS/OI+aVCzrpRoLym0UsG4i/97P1dZUqTbUgQAAAIxBmyxJqEFsmUwUTDv//qmWAAAJAUxDYfpXvalnVy9FGbcEquwtW3Bgk6xzWNBfOcP5fa0Pnu6sAqJndNl6tjt+P2XcS8DrVzDD718eepaxmuWlOgG3pgsQe0GttZKKQweHDV/9etKFA89AKX6QGkXMMMUwcYwULSednr6Hf0Xyy0OGK79f9J9SlbDydAAAADsBn0tqQr8AAA7dc3QUsCdev3JljTetzHZWcmXiBw8Fk0tBwyrsr8lvv/4b8gAIaqkVsM6hP+/ZCVJFgAAAAI5Bm1BJ4QpSZTAhv/6nhAAAEdHfJ9cPGxRYgDln0ZhUw+H5ege//nMjF/zApcSbE6WyiHT9HRftZIzuFny38bgtd7jFkFAJKt6hzW90Y94LZKzklYPtRYbGTylN8AGIXzvVAGlWVZyQBzKEOyBy2nhviJrDhIDMvbfa0qc399bkmSCSD1By6/oXelt9PMSXAAAAdEGfbkU0TC//AAALFa0Wp/CAG4GT+7d/odcpXf2+90cVk8RJEODiNsxV8tbOe2tXJgmTsNVZ0TlOSYtZfO4ihAjcvKffpeEre4qyuvjtVQK8+iOglyAsw8LMAjfKL5cfwJN3hJJuiypByq/W1NlX8+eF87UhAAAAQgGfjXRCvwAADoOcgcIIAMjPjS0Mo2f+Hs87uYbxxs+6IUUkfEvdZ5opEDWDVMCIE/P8/EAIP6LGB+dF9x3fgYd/gQAAAEQBn49qQr8AAA5/bG0GsS6ZkNLSF9AAE4SJHKgAv735uEsk/BvP15mz5tudibo2+6DiOHt4ERmqVDxpjK89rIBG/lLrrwAAAKtBm5RJqEFomUwIZ//+nhAAAEW+LG/5hzbSQMAYF6jE3Iviv//1xfXD3o8/68cqVgNoF2eRCx3541Wy5kFIKG3Ieq5+JemPSN0jXdA5FlAKW/93YpDgNi7JDAJMQZckxiLV6O58sy/NBBoey17iCQf3/HZz1HxraotKoRSQu30nA1jXntArZhnsxNrAW9pJjhOkGZvAUDvKWMBPfdNvPpxHdwfGn5OVQN8gMYUAAABsQZ+yRREsL/8AAAsWSFlsfjuPXAARY218D//qrNhXnWv0ZRDnOvPrWhWjjKFmf1eB4jDG2gCVFeVyTyp3eXc4FMxMdyLCSKUpyzUgotRQ2LDt4UoBdLGtyH2C+l56XBlX7MvAsdvChK+r6O9xAAAANQGf0XRCvwAADn/HV0u5uw2RF4XFWGfa0xjmLOfOvej8hRfE7Ow0AM3+hthk0vDcEuhplZ3uAAAAQgGf02pCvwAADoAj3e/B1AC0+TqNkn+E2qKrtAKqB0VgEf6Fwn2fnzQ3Hz9NbZ0Jv2rPAX0JoB5VZrAm4kvETkIe4AAAAK5Bm9dJqEFsmUwIV//+OEAAAQVPB4qQkpbXQ+gToSoxFz+6ACWFuP0+//C/v0ZPxjnFu8xlEGRcc+wRjZOZRs96GZ+lSP+Pt0f7S9sQDuOZEBklpuq0bKe3L1p7ITqk1CEELPhe9jURSi9PpvWakTZxyr+TdGDvSgw7nY5dlwOuT+bPoEYe5taZLug8c4rn2i0VfVIIze4iK41MNAlh6e59uLhKvxuZdpRbjfB+5MEAAABxQZ/1RRUsK/8AAA7dhRFmXD7UABGNBTynppG2R4Zfx21gzFxQVP5ULf/+itGr0/7blJWl3MWE8TY58iOZBvNFLZaY//eDt6Wyc4H4XaijrJpdlyPtLG1bYdxCjmdJajTa4tPBDwnCi7L/inOaR+neYJMAAABTAZ4WakK/AAAN+2ynVo2gmsizAPkXre5mhcTypdXMlnO4rgEVbz0btyLOcEhy97w5Um0agDbPZHKADZ4wPLPKbNSpVJj6gEEwM4zfBeAtglv1PgMAAAiLbW9vdgAAAGxtdmhkAAAAAAAAAAAAAAAAAAAD6AAAEsAAAQAAAQAAAAAAAAAAAAAAAAEAAAAAAAAAAAAAAAAAAAABAAAAAAAAAAAAAAAAAABAAAAAAAAAAAAAAAAAAAAAAAAAAAAAAAAAAAAAAAAAAgAAB7V0cmFrAAAAXHRraGQAAAADAAAAAAAAAAAAAAABAAAAAAAAEsAAAAAAAAAAAAAAAAAAAAAAAAEAAAAAAAAAAAAAAAAAAAABAAAAAAAAAAAAAAAAAABAAAAAAlgAAAGQAAAAAAAkZWR0cwAAABxlbHN0AAAAAAAAAAEAABLAAAAEAAABAAAAAActbWRpYQAAACBtZGhkAAAAAAAAAAAAAAAAAAAyAAAA8ABVxAAAAAAALWhkbHIAAAAAAAAAAHZpZGUAAAAAAAAAAAAAAABWaWRlb0hhbmRsZXIAAAAG2G1pbmYAAAAUdm1oZAAAAAEAAAAAAAAAAAAAACRkaW5mAAAAHGRyZWYAAAAAAAAAAQAAAAx1cmwgAAAAAQAABphzdGJsAAAAmHN0c2QAAAAAAAAAAQAAAIhhdmMxAAAAAAAAAAEAAAAAAAAAAAAAAAAAAAAAAlgBkABIAAAASAAAAAAAAAABAAAAAAAAAAAAAAAAAAAAAAAAAAAAAAAAAAAAAAAAAAAAGP//AAAAMmF2Y0MB9AAe/+EAGmf0AB6RmygTBnxPCAAAAwAIAAADAZB4sWywAQAFaOvjxEgAAAAYc3R0cwAAAAAAAAABAAAAeAAAAgAAAAAUc3RzcwAAAAAAAAABAAAAAQAAA6hjdHRzAAAAAAAAAHMAAAABAAAEAAAAAAEAAAoAAAAAAQAABAAAAAABAAAAAAAAAAEAAAIAAAAAAQAACgAAAAABAAAEAAAAAAEAAAAAAAAAAQAAAgAAAAABAAAIAAAAAAIAAAIAAAAAAQAACgAAAAABAAAEAAAAAAEAAAAAAAAAAQAAAgAAAAABAAAKAAAAAAEAAAQAAAAAAQAAAAAAAAABAAACAAAAAAEAAAoAAAAAAQAABAAAAAABAAAAAAAAAAEAAAIAAAAAAQAACgAAAAABAAAEAAAAAAEAAAAAAAAAAQAAAgAAAAABAAAKAAAAAAEAAAQAAAAAAQAAAAAAAAABAAACAAAAAAEAAAoAAAAAAQAABAAAAAABAAAAAAAAAAEAAAIAAAAAAQAACgAAAAABAAAEAAAAAAEAAAAAAAAAAQAAAgAAAAABAAAKAAAAAAEAAAQAAAAAAQAAAAAAAAABAAACAAAAAAEAAAoAAAAAAQAABAAAAAABAAAAAAAAAAEAAAIAAAAAAQAACgAAAAABAAAEAAAAAAEAAAAAAAAAAQAAAgAAAAABAAAKAAAAAAEAAAQAAAAAAQAAAAAAAAABAAACAAAAAAEAAAoAAAAAAQAABAAAAAABAAAAAAAAAAEAAAIAAAAAAQAACgAAAAABAAAEAAAAAAEAAAAAAAAAAQAAAgAAAAABAAAKAAAAAAEAAAQAAAAAAQAAAAAAAAABAAACAAAAAAEAAAoAAAAAAQAABAAAAAABAAAAAAAAAAEAAAIAAAAAAQAACgAAAAABAAAEAAAAAAEAAAAAAAAAAQAAAgAAAAABAAAKAAAAAAEAAAQAAAAAAQAAAAAAAAABAAACAAAAAAEAAAoAAAAAAQAABAAAAAABAAAAAAAAAAEAAAIAAAAAAQAACAAAAAACAAACAAAAAAEAAAQAAAAAAQAACAAAAAACAAACAAAAAAEAAAQAAAAAAQAACAAAAAACAAACAAAAAAEAAAoAAAAAAQAABAAAAAABAAAAAAAAAAEAAAIAAAAAAQAACgAAAAABAAAEAAAAAAEAAAAAAAAAAQAAAgAAAAABAAAKAAAAAAEAAAQAAAAAAQAAAAAAAAABAAACAAAAAAEAAAYAAAAAAQAAAgAAAAABAAAKAAAAAAEAAAQAAAAAAQAAAAAAAAABAAACAAAAAAEAAAoAAAAAAQAABAAAAAABAAAAAAAAAAEAAAIAAAAAAQAACAAAAAACAAACAAAAABxzdHNjAAAAAAAAAAEAAAABAAAAeAAAAAEAAAH0c3RzegAAAAAAAAAAAAAAeAAABPgAAADIAAAANgAAADcAAAA/AAAA0wAAAEIAAAAlAAAAPAAAAIMAAABMAAAAJgAAAIMAAAA3AAAAMwAAAEcAAAB/AAAAVQAAAEMAAAAqAAAAgAAAADEAAABDAAAAOAAAAK4AAAA1AAAAMgAAACoAAACCAAAALgAAACwAAAA6AAAAngAAAEEAAAAyAAAATgAAAGIAAABKAAAAKgAAACYAAAB9AAAAQAAAAD4AAAA+AAAAWgAAACgAAAAyAAAAIgAAAFAAAAAlAAAARQAAAD4AAAA/AAAAPAAAACEAAAAeAAAAWQAAAFMAAAAzAAAALwAAADAAAAAyAAAAHwAAABwAAABuAAAAQwAAACwAAAAhAAAAeAAAAC0AAAAeAAAAPQAAAEwAAAA3AAAAJwAAACkAAACQAAAAKgAAAD8AAABIAAAAWAAAADkAAAAnAAAAMAAAAFwAAABGAAAAVAAAAGwAAABJAAAAWQAAADYAAABHAAAAlgAAAEUAAABEAAAAcgAAAEoAAAA2AAAANQAAAHsAAABLAAAAQQAAAEYAAACZAAAAcwAAAEgAAABRAAAAkAAAAD8AAACSAAAAeAAAAEYAAABIAAAArwAAAHAAAAA5AAAARgAAALIAAAB1AAAAVwAAABRzdGNvAAAAAAAAAAEAAAAwAAAAYnVkdGEAAABabWV0YQAAAAAAAAAhaGRscgAAAAAAAAAAbWRpcmFwcGwAAAAAAAAAAAAAAAAtaWxzdAAAACWpdG9vAAAAHWRhdGEAAAABAAAAAExhdmY1Ny44My4xMDA=\" type=\"video/mp4\" />\n",
              "        </video>"
            ],
            "text/plain": [
              "<IPython.core.display.HTML object>"
            ]
          },
          "metadata": {
            "tags": []
          },
          "execution_count": 13
        }
      ]
    },
    {
      "cell_type": "markdown",
      "metadata": {
        "id": "CSbVNDpaVb3_",
        "colab_type": "text"
      },
      "source": [
        "How does the agent perform? Could you train it for shorter amounts of time and still perform well? Do you think that training longer would help even more? "
      ]
    },
    {
      "cell_type": "markdown",
      "metadata": {
        "id": "Eu6Mqxc720ST",
        "colab_type": "text"
      },
      "source": [
        "#Part 2: Pong\n",
        "\n",
        "In Cartpole, we dealt with an environment that was static -- in other words, it didn't change over time. What happens if our environment is dynamic and unpredictable? Well that's exactly the case in [Pong](https://en.wikipedia.org/wiki/Pong), since part of the environment is the opposing player. We don't know how our opponent will act or react to our actions, so the complexity of our problem increases. It also becomes much more interesting, since we can compete to beat our opponent. RL provides a powerful framework for training AI systems with the ability to handle and interact with dynamic, unpredictable environments. In this part of the lab, we'll use the tools and workflow we explored in Part 1 to build an RL agent capable of playing the game of Pong.\n"
      ]
    },
    {
      "cell_type": "markdown",
      "metadata": {
        "id": "srZ4YE29isuA",
        "colab_type": "text"
      },
      "source": [
        "## 3.6 Define and inspect the Pong environment\n",
        "\n",
        "As with Cartpole, we'll instantiate the Pong environment in the OpenAI gym, using a seed of 1."
      ]
    },
    {
      "cell_type": "code",
      "metadata": {
        "id": "lbYHLr66i15n",
        "colab_type": "code",
        "colab": {}
      },
      "source": [
        "env = gym.make(\"Pong-v0\", frameskip=5)\n",
        "env.seed(1); # for reproducibility"
      ],
      "execution_count": 14,
      "outputs": []
    },
    {
      "cell_type": "markdown",
      "metadata": {
        "id": "52uZ2Xhyi-MW",
        "colab_type": "text"
      },
      "source": [
        "Let's next consider the observation space for the Pong environment. Instead of four physical descriptors of the cart-pole setup, in the case of Pong our observations are the individual video frames (i.e., images) that depict the state of the board. Thus, the observations are 210x160 RGB images (arrays of shape (210,160,3)).\n",
        "\n",
        "We can again confirm the size of the observation space by query:"
      ]
    },
    {
      "cell_type": "code",
      "metadata": {
        "id": "0yX4GWvxjnHS",
        "colab_type": "code",
        "colab": {
          "base_uri": "https://localhost:8080/",
          "height": 35
        },
        "outputId": "02127497-b5d1-4c92-c84f-edae30600d81"
      },
      "source": [
        "print(\"Environment has observation space =\", env.observation_space)"
      ],
      "execution_count": 15,
      "outputs": [
        {
          "output_type": "stream",
          "text": [
            "Environment has observation space = Box(210, 160, 3)\n"
          ],
          "name": "stdout"
        }
      ]
    },
    {
      "cell_type": "markdown",
      "metadata": {
        "id": "uuEC2TdSjx9D",
        "colab_type": "text"
      },
      "source": [
        "In Pong, at every time step, the agent (which controls the paddle) has six actions to choose from: no-op (no operation), move right, move left, fire, fire right, and fire left. Let's confirm the size of the action space by querying the environment:"
      ]
    },
    {
      "cell_type": "code",
      "metadata": {
        "id": "Iuy9oPc1kag3",
        "colab_type": "code",
        "colab": {
          "base_uri": "https://localhost:8080/",
          "height": 35
        },
        "outputId": "0a1b52a3-a5af-423b-9694-23c3ee6ed21f"
      },
      "source": [
        "n_actions = env.action_space.n\n",
        "print(\"Number of possible actions that the agent can choose from =\", n_actions)"
      ],
      "execution_count": 16,
      "outputs": [
        {
          "output_type": "stream",
          "text": [
            "Number of possible actions that the agent can choose from = 6\n"
          ],
          "name": "stdout"
        }
      ]
    },
    {
      "cell_type": "markdown",
      "metadata": {
        "id": "9-fghDRigUE5",
        "colab_type": "text"
      },
      "source": [
        "## 3.7 Define the Pong agent\n",
        "\n",
        "As before, we'll use a neural network to define our agent. What network architecture do you think would be especially well suited to this game? Since our observations are now in the form of images, we'll add convolutional layers to the network to increase the learning capacity of our network."
      ]
    },
    {
      "cell_type": "code",
      "metadata": {
        "id": "IJiqbFYpgYRH",
        "colab_type": "code",
        "colab": {}
      },
      "source": [
        "### Define the Pong agent ###\n",
        "\n",
        "# Functionally define layers for convenience\n",
        "# All convolutional layers will have ReLu activation\n",
        "Conv2D = functools.partial(tf.keras.layers.Conv2D, padding='same', activation='relu')\n",
        "Flatten = tf.keras.layers.Flatten\n",
        "Dense = tf.keras.layers.Dense\n",
        "\n",
        "# Defines a CNN for the Pong agent\n",
        "def create_pong_model():\n",
        "  model = tf.keras.models.Sequential([\n",
        "    # Convolutional layers\n",
        "    # First, 16 7x7 filters with 4x4 stride\n",
        "    Conv2D(filters=16, kernel_size=7, strides=4),\n",
        "\n",
        "    # TODO: define convolutional layers with 32 5x5 filters and 2x2 stride\n",
        "    Conv2D(filters=32, kernel_size=5, strides=2),\n",
        "\n",
        "    # TODO: define convolutional layers with 48 3x3 filters and 2x2 stride\n",
        "    Conv2D(filters=48, kernel_size=3, strides=2),\n",
        "\n",
        "    Flatten(),\n",
        "    \n",
        "    # Fully connected layer and output\n",
        "    Dense(units=64, activation='relu'),\n",
        "    # TODO: define the output dimension of the last Dense layer. \n",
        "    # Pay attention to the space the agent needs to act in\n",
        "    Dense(n_actions, activation=None)\n",
        "  \n",
        "  ])\n",
        "  return model\n",
        "\n",
        "pong_model = create_pong_model()"
      ],
      "execution_count": 17,
      "outputs": []
    },
    {
      "cell_type": "markdown",
      "metadata": {
        "id": "yaeZ067olFiJ",
        "colab_type": "text"
      },
      "source": [
        "Since we've already defined the action function, `choose_action(model, observation)`, we don't need to define it again. Instead, we'll be able to reuse it later on by passing in our new model we've just created, `pong_model`. This is awesome because our action function provides a modular and generalizable method for all sorts of RL agents!"
      ]
    },
    {
      "cell_type": "markdown",
      "metadata": {
        "id": "l0RvqOVkmc2r",
        "colab_type": "text"
      },
      "source": [
        "## 3.8 Pong-specific functions\n",
        "\n",
        "In Part 1 (Cartpole), we implemented some key functions and classes to build and train our RL agent -- `choose_action(model, observation)` and the `Memory` class, for example. However, in getting ready to apply these to a new game like Pong, we might need to make some slight modifications. \n",
        "\n",
        "Namely, we need to think about what happens when a game ends. In Pong, we know a game has ended if the reward is +1 (we won!) or -1 (we lost unfortunately). Otherwise, we expect the reward at a timestep to be zero -- the players (or agents) are just playing eachother. So, after a game ends, we will need to reset the reward to zero when a game ends. This will result in a modified reward function."
      ]
    },
    {
      "cell_type": "code",
      "metadata": {
        "id": "iEZG2o50luLu",
        "colab_type": "code",
        "colab": {}
      },
      "source": [
        "### Pong reward function ###\n",
        "\n",
        "# Compute normalized, discounted rewards for Pong (i.e., return)\n",
        "# Arguments:\n",
        "#   rewards: reward at timesteps in episode\n",
        "#   gamma: discounting factor. Note increase to 0.99 -- rate of depreciation will be slower.\n",
        "# Returns:\n",
        "#   normalized discounted reward\n",
        "def discount_rewards(rewards, gamma=0.99): \n",
        "  discounted_rewards = np.zeros_like(rewards)\n",
        "  R = 0\n",
        "  for t in reversed(range(0, len(rewards))):\n",
        "      # NEW: Reset the sum if the reward is not 0 (the game has ended!)\n",
        "      if rewards[t] != 0:\n",
        "        R = 0\n",
        "      # update the total discounted reward as before\n",
        "      R = R * gamma + rewards[t]\n",
        "      discounted_rewards[t] = R\n",
        "      \n",
        "  return normalize(discounted_rewards)"
      ],
      "execution_count": 18,
      "outputs": []
    },
    {
      "cell_type": "markdown",
      "metadata": {
        "id": "HopLpb4IoOqA",
        "colab_type": "text"
      },
      "source": [
        "Additionally, we have to consider the nature of the observations in the Pong environment, and how they will be fed into our network. Our observations in this case are images. Before we input an image into our network, we'll do a bit of pre-processing to crop and scale, clean up the background colors to a single color, and set the important game elements to a single color. Let's use this function to visualize what an observation might look like before and after pre-processing."
      ]
    },
    {
      "cell_type": "code",
      "metadata": {
        "id": "no5IIYtFm8pI",
        "colab_type": "code",
        "colab": {
          "base_uri": "https://localhost:8080/",
          "height": 227
        },
        "outputId": "1989e3d7-27fa-4844-ee48-9b402156828c"
      },
      "source": [
        "observation = env.reset()\n",
        "for i in range(30):\n",
        "  observation, _,_,_ = env.step(0)\n",
        "observation_pp = mdl.lab3.preprocess_pong(observation)\n",
        "\n",
        "f = plt.figure(figsize=(10,3))\n",
        "ax = f.add_subplot(121)\n",
        "ax2 = f.add_subplot(122)\n",
        "ax.imshow(observation); ax.grid(False);\n",
        "ax2.imshow(np.squeeze(observation_pp)); ax2.grid(False); plt.title('Preprocessed Observation');"
      ],
      "execution_count": 19,
      "outputs": [
        {
          "output_type": "display_data",
          "data": {
            "image/png": "[encoded data removed]",
            "text/plain": [
              "<Figure size 720x216 with 2 Axes>"
            ]
          },
          "metadata": {
            "tags": [],
            "needs_background": "light"
          }
        }
      ]
    },
    {
      "cell_type": "markdown",
      "metadata": {
        "id": "bYwIWC-Cz8F2",
        "colab_type": "text"
      },
      "source": [
        "What do you notice? How might these changes be important for training our RL algorithm?"
      ]
    },
    {
      "cell_type": "markdown",
      "metadata": {
        "id": "mRqcaDQ1pm3x",
        "colab_type": "text"
      },
      "source": [
        "## 3.9 Training Pong\n",
        "\n",
        "We're now all set up to start training our RL algorithm and agent for the game of Pong! We've already defined our loss function with `compute_loss`, which employs policy gradient learning, as well as our backpropagation step with `train_step` which is beautiful! We will use these functions to execute training the Pong agent. Let's walk through the training block.\n",
        "\n",
        "In Pong, rather than feeding our network one image at a time, it can actually improve performance to input the difference between two consecutive observations, which really gives us information about the movement between frames -- how the game is changing. We'll first pre-process the raw observation, `x`, and then we'll compute the difference with the image frame we saw one timestep before. \n",
        "\n",
        "This observation change will be forward propagated through our Pong agent, the CNN network model, which will then predict the next action to take based on this observation. The raw reward will be computed, and the observation, action, and reward will be recorded into memory. This will continue until a training episode, i.e., a game, ends.\n",
        "\n",
        "Then, we will compute the discounted rewards, and use this information to execute a training step. Memory will be cleared, and we will do it all over again!\n",
        "\n",
        "Let's run the code block to train our Pong agent. Note that completing training will take quite a bit of time (estimated at least a couple of hours). We will again visualize the evolution of the total reward as a function of training to get a sense of how the agent is learning."
      ]
    },
    {
      "cell_type": "code",
      "metadata": {
        "id": "xCwyQQrPnkZG",
        "colab_type": "code",
        "colab": {
          "base_uri": "https://localhost:8080/",
          "height": 131
        },
        "outputId": "73a16cc2-cbdd-481d-f84d-5c94724ea4e3"
      },
      "source": [
        "### Training Pong ###\n",
        "\n",
        "# Hyperparameters\n",
        "learning_rate=1e-4\n",
        "MAX_ITERS = 10000 # increase the maximum number of episodes, since Pong is more complex!\n",
        "\n",
        "# Model and optimizer\n",
        "pong_model = create_pong_model()\n",
        "optimizer = tf.keras.optimizers.Adam(learning_rate)\n",
        "\n",
        "# plotting\n",
        "smoothed_reward = mdl.util.LossHistory(smoothing_factor=0.9)\n",
        "plotter = mdl.util.PeriodicPlotter(sec=5, xlabel='Iterations', ylabel='Rewards')\n",
        "memory = Memory()\n",
        "\n",
        "for i_episode in range(MAX_ITERS):\n",
        "\n",
        "  plotter.plot(smoothed_reward.get())\n",
        "\n",
        "  # Restart the environment\n",
        "  observation = env.reset()\n",
        "  previous_frame = mdl.lab3.preprocess_pong(observation)\n",
        "\n",
        "  while True:\n",
        "      # Pre-process image \n",
        "      current_frame = mdl.lab3.preprocess_pong(observation)\n",
        "      \n",
        "      '''TODO: determine the observation change\n",
        "      Hint: this is the difference between the past two frames'''\n",
        "      obs_change = current_frame - previous_frame\n",
        "      \n",
        "      '''TODO: choose an action for the pong model, using the frame difference, and evaluate'''\n",
        "      action = choose_action(pong_model, obs_change)\n",
        "      # Take the chosen action\n",
        "      next_observation, reward, done, info = env.step(action)\n",
        "\n",
        "      '''TODO: save the observed frame difference, the action that was taken, and the resulting reward!'''\n",
        "      memory.add_to_memory(obs_change, action, reward)\n",
        "      \n",
        "      # is the episode over? did you crash or do so well that you're done?\n",
        "      if done:\n",
        "          # determine total reward and keep a record of this\n",
        "          total_reward = sum(memory.rewards)\n",
        "          smoothed_reward.append( total_reward )\n",
        "\n",
        "          # begin training\n",
        "          train_step(pong_model, \n",
        "                     optimizer, \n",
        "                     observations = np.stack(memory.observations, 0), \n",
        "                     actions = np.array(memory.actions),\n",
        "                     discounted_rewards = discount_rewards(memory.rewards))\n",
        "          \n",
        "          memory.clear()\n",
        "          break\n",
        "\n",
        "      observation = next_observation\n",
        "      previous_frame = current_frame"
      ],
      "execution_count": 20,
      "outputs": [
        {
          "output_type": "error",
          "ename": "SyntaxError",
          "evalue": "ignored",
          "traceback": [
            "\u001b[0;36m  File \u001b[0;32m\"<ipython-input-20-891cd504a468>\"\u001b[0;36m, line \u001b[0;32m30\u001b[0m\n\u001b[0;31m    obs_change = # TODO\u001b[0m\n\u001b[0m                       ^\u001b[0m\n\u001b[0;31mSyntaxError\u001b[0m\u001b[0;31m:\u001b[0m invalid syntax\n"
          ]
        }
      ]
    },
    {
      "cell_type": "markdown",
      "metadata": {
        "id": "8LiEY5Y_ts-Z",
        "colab_type": "text"
      },
      "source": [
        "Finally we can put our trained agent to the test! It will play in a newly instantiated Pong environment against the \"computer\", a base AI system for Pong. Your agent plays as the green paddle. Let's watch the match instant replay!"
      ]
    },
    {
      "cell_type": "code",
      "metadata": {
        "id": "TvHXbkL0tR6M",
        "colab_type": "code",
        "colab": {}
      },
      "source": [
        "saved_pong = mdl.lab3.save_video_of_model(\n",
        "    pong_model, \"Pong-v0\", obs_diff=True, \n",
        "    pp_fn=mdl.lab3.preprocess_pong)\n",
        "mdl.lab3.play_video(saved_pong)"
      ],
      "execution_count": null,
      "outputs": []
    },
    {
      "cell_type": "markdown",
      "metadata": {
        "id": "TIlwIgBP3Js6",
        "colab_type": "text"
      },
      "source": [
        "## 3.10 Conclusion\n",
        "\n",
        "That's it! Congratulations on training two RL agents and putting them to the test! We encourage you to consider the following:\n",
        "\n",
        "*   How does the agent perform?\n",
        "*   Could you train it for shorter amounts of time  and still perform well?\n",
        "*   Do you think that training longer would help even more? \n",
        "* How does the complexity of Pong relative to Cartpole alter the rate at which the agent learns and its performance? \n",
        "* What are some things you could change about the agent or the learning process to potentially improve performance?\n",
        "\n",
        "If you want to go further, try to optimize your model to achieve the best performance! **[Email us](mailto:introtodeeplearning-staff@mit.edu) a copy of your notebook with the Pong training executed AND a saved video of your Pong agent competing! We'll give out prizes to the best performers!**"
      ]
    }
  ]
}